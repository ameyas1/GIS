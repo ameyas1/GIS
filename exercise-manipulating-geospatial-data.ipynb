{
 "cells": [
  {
   "cell_type": "markdown",
   "execution_count": null,
   "metadata": {},
   "source": [
    "**[Geospatial Analysis Home Page](https://www.kaggle.com/learn/geospatial-analysis)**\n",
    "\n",
    "---\n"
   ]
  },
  {
   "cell_type": "markdown",
   "execution_count": null,
   "metadata": {},
   "source": [
    "# Introduction\n",
    "\n",
    "You are a Starbucks big data analyst ([that’s a real job!](https://www.forbes.com/sites/bernardmarr/2018/05/28/starbucks-using-big-data-analytics-and-artificial-intelligence-to-boost-performance/#130c7d765cdc)) looking to find the next store into a [Starbucks Reserve Roastery](https://www.businessinsider.com/starbucks-reserve-roastery-compared-regular-starbucks-2018-12#also-on-the-first-floor-was-the-main-coffee-bar-five-hourglass-like-units-hold-the-freshly-roasted-coffee-beans-that-are-used-in-each-order-the-selection-rotates-seasonally-5).  These roasteries are much larger than a typical Starbucks store and have several additional features, including various food and wine options, along with upscale lounge areas.  You'll investigate the demographics of various counties in the state of California, to determine potentially suitable locations.\n",
    "\n",
    "<center>\n",
    "<img src=\"https://i.imgur.com/BIyE6kR.png\" width=\"450\"><br/><br/>\n",
    "</center>\n",
    "\n",
    "Before you get started, run the code cell below to set everything up."
   ]
  },
  {
   "cell_type": "code",
   "execution_count": 1,
   "metadata": {},
   "outputs": [],
   "source": [
    "import math\n",
    "import pandas as pd\n",
    "import geopandas as gpd\n",
    "#from geopandas.tools import geocode            # What you'd normally run\n",
    "from learntools.geospatial.tools import geocode # Just for this exercise\n",
    "\n",
    "import folium \n",
    "from folium import Marker\n",
    "from folium.plugins import MarkerCluster\n",
    "\n",
    "from learntools.core import binder\n",
    "binder.bind(globals())\n",
    "from learntools.geospatial.ex4 import *"
   ]
  },
  {
   "cell_type": "markdown",
   "execution_count": null,
   "metadata": {},
   "source": [
    "You'll use the `embed_map()` function from the previous exercise to visualize your maps."
   ]
  },
  {
   "cell_type": "code",
   "execution_count": 2,
   "metadata": {},
   "outputs": [],
   "source": [
    "def embed_map(m, file_name):\n",
    "    from IPython.display import IFrame\n",
    "    m.save(file_name)\n",
    "    return IFrame(file_name, width='100%', height='500px')"
   ]
  },
  {
   "cell_type": "markdown",
   "execution_count": null,
   "metadata": {},
   "source": [
    "# Exercises\n",
    "\n",
    "### 1) Geocode the missing locations.\n",
    "\n",
    "Run the next code cell to create a DataFrame `starbucks` containing Starbucks locations in the state of California."
   ]
  },
  {
   "cell_type": "code",
   "execution_count": 3,
   "metadata": {},
   "outputs": [
    {
     "data": {
      "text/html": [
       "<div>\n",
       "<style scoped>\n",
       "    .dataframe tbody tr th:only-of-type {\n",
       "        vertical-align: middle;\n",
       "    }\n",
       "\n",
       "    .dataframe tbody tr th {\n",
       "        vertical-align: top;\n",
       "    }\n",
       "\n",
       "    .dataframe thead th {\n",
       "        text-align: right;\n",
       "    }\n",
       "</style>\n",
       "<table border=\"1\" class=\"dataframe\">\n",
       "  <thead>\n",
       "    <tr style=\"text-align: right;\">\n",
       "      <th></th>\n",
       "      <th>Store Number</th>\n",
       "      <th>Store Name</th>\n",
       "      <th>Address</th>\n",
       "      <th>City</th>\n",
       "      <th>Longitude</th>\n",
       "      <th>Latitude</th>\n",
       "    </tr>\n",
       "  </thead>\n",
       "  <tbody>\n",
       "    <tr>\n",
       "      <td>0</td>\n",
       "      <td>10429-100710</td>\n",
       "      <td>Palmdale &amp; Hwy 395</td>\n",
       "      <td>14136 US Hwy 395 Adelanto CA</td>\n",
       "      <td>Adelanto</td>\n",
       "      <td>-117.40</td>\n",
       "      <td>34.51</td>\n",
       "    </tr>\n",
       "    <tr>\n",
       "      <td>1</td>\n",
       "      <td>635-352</td>\n",
       "      <td>Kanan &amp; Thousand Oaks</td>\n",
       "      <td>5827 Kanan Road Agoura CA</td>\n",
       "      <td>Agoura</td>\n",
       "      <td>-118.76</td>\n",
       "      <td>34.16</td>\n",
       "    </tr>\n",
       "    <tr>\n",
       "      <td>2</td>\n",
       "      <td>74510-27669</td>\n",
       "      <td>Vons-Agoura Hills #2001</td>\n",
       "      <td>5671 Kanan Rd. Agoura Hills CA</td>\n",
       "      <td>Agoura Hills</td>\n",
       "      <td>-118.76</td>\n",
       "      <td>34.15</td>\n",
       "    </tr>\n",
       "    <tr>\n",
       "      <td>3</td>\n",
       "      <td>29839-255026</td>\n",
       "      <td>Target Anaheim T-0677</td>\n",
       "      <td>8148 E SANTA ANA CANYON ROAD AHAHEIM CA</td>\n",
       "      <td>AHAHEIM</td>\n",
       "      <td>-117.75</td>\n",
       "      <td>33.87</td>\n",
       "    </tr>\n",
       "    <tr>\n",
       "      <td>4</td>\n",
       "      <td>23463-230284</td>\n",
       "      <td>Safeway - Alameda 3281</td>\n",
       "      <td>2600 5th Street Alameda CA</td>\n",
       "      <td>Alameda</td>\n",
       "      <td>-122.28</td>\n",
       "      <td>37.79</td>\n",
       "    </tr>\n",
       "  </tbody>\n",
       "</table>\n",
       "</div>"
      ],
      "text/plain": [
       "   Store Number               Store Name  \\\n",
       "0  10429-100710       Palmdale & Hwy 395   \n",
       "1       635-352    Kanan & Thousand Oaks   \n",
       "2   74510-27669  Vons-Agoura Hills #2001   \n",
       "3  29839-255026    Target Anaheim T-0677   \n",
       "4  23463-230284   Safeway - Alameda 3281   \n",
       "\n",
       "                                   Address          City  Longitude  Latitude  \n",
       "0             14136 US Hwy 395 Adelanto CA      Adelanto    -117.40     34.51  \n",
       "1                5827 Kanan Road Agoura CA        Agoura    -118.76     34.16  \n",
       "2           5671 Kanan Rd. Agoura Hills CA  Agoura Hills    -118.76     34.15  \n",
       "3  8148 E SANTA ANA CANYON ROAD AHAHEIM CA       AHAHEIM    -117.75     33.87  \n",
       "4               2600 5th Street Alameda CA       Alameda    -122.28     37.79  "
      ]
     },
     "execution_count": 3,
     "metadata": {},
     "output_type": "execute_result"
    }
   ],
   "source": [
    "# Load and preview Starbucks locations in California\n",
    "starbucks = pd.read_csv(\"../input/geospatial-learn-course-data/starbucks_locations.csv\")\n",
    "starbucks.head()"
   ]
  },
  {
   "cell_type": "markdown",
   "execution_count": null,
   "metadata": {},
   "source": [
    "Most of the stores have known (latitude, longitude) locations.  But, all of the locations in the city of Berkeley are missing."
   ]
  },
  {
   "cell_type": "code",
   "execution_count": 4,
   "metadata": {},
   "outputs": [
    {
     "name": "stdout",
     "output_type": "stream",
     "text": [
      "Store Number    0\n",
      "Store Name      0\n",
      "Address         0\n",
      "City            0\n",
      "Longitude       5\n",
      "Latitude        5\n",
      "dtype: int64\n"
     ]
    },
    {
     "data": {
      "text/html": [
       "<div>\n",
       "<style scoped>\n",
       "    .dataframe tbody tr th:only-of-type {\n",
       "        vertical-align: middle;\n",
       "    }\n",
       "\n",
       "    .dataframe tbody tr th {\n",
       "        vertical-align: top;\n",
       "    }\n",
       "\n",
       "    .dataframe thead th {\n",
       "        text-align: right;\n",
       "    }\n",
       "</style>\n",
       "<table border=\"1\" class=\"dataframe\">\n",
       "  <thead>\n",
       "    <tr style=\"text-align: right;\">\n",
       "      <th></th>\n",
       "      <th>Store Number</th>\n",
       "      <th>Store Name</th>\n",
       "      <th>Address</th>\n",
       "      <th>City</th>\n",
       "      <th>Longitude</th>\n",
       "      <th>Latitude</th>\n",
       "    </tr>\n",
       "  </thead>\n",
       "  <tbody>\n",
       "    <tr>\n",
       "      <td>153</td>\n",
       "      <td>5406-945</td>\n",
       "      <td>2224 Shattuck - Berkeley</td>\n",
       "      <td>2224 Shattuck Avenue Berkeley CA</td>\n",
       "      <td>Berkeley</td>\n",
       "      <td>NaN</td>\n",
       "      <td>NaN</td>\n",
       "    </tr>\n",
       "    <tr>\n",
       "      <td>154</td>\n",
       "      <td>570-512</td>\n",
       "      <td>Solano Ave</td>\n",
       "      <td>1799 Solano Avenue Berkeley CA</td>\n",
       "      <td>Berkeley</td>\n",
       "      <td>NaN</td>\n",
       "      <td>NaN</td>\n",
       "    </tr>\n",
       "    <tr>\n",
       "      <td>155</td>\n",
       "      <td>17877-164526</td>\n",
       "      <td>Safeway - Berkeley #691</td>\n",
       "      <td>1444 Shattuck Place Berkeley CA</td>\n",
       "      <td>Berkeley</td>\n",
       "      <td>NaN</td>\n",
       "      <td>NaN</td>\n",
       "    </tr>\n",
       "    <tr>\n",
       "      <td>156</td>\n",
       "      <td>19864-202264</td>\n",
       "      <td>Telegraph &amp; Ashby</td>\n",
       "      <td>3001 Telegraph Avenue Berkeley CA</td>\n",
       "      <td>Berkeley</td>\n",
       "      <td>NaN</td>\n",
       "      <td>NaN</td>\n",
       "    </tr>\n",
       "    <tr>\n",
       "      <td>157</td>\n",
       "      <td>9217-9253</td>\n",
       "      <td>2128 Oxford St.</td>\n",
       "      <td>2128 Oxford Street Berkeley CA</td>\n",
       "      <td>Berkeley</td>\n",
       "      <td>NaN</td>\n",
       "      <td>NaN</td>\n",
       "    </tr>\n",
       "  </tbody>\n",
       "</table>\n",
       "</div>"
      ],
      "text/plain": [
       "     Store Number                Store Name  \\\n",
       "153      5406-945  2224 Shattuck - Berkeley   \n",
       "154       570-512                Solano Ave   \n",
       "155  17877-164526   Safeway - Berkeley #691   \n",
       "156  19864-202264         Telegraph & Ashby   \n",
       "157     9217-9253           2128 Oxford St.   \n",
       "\n",
       "                               Address      City  Longitude  Latitude  \n",
       "153   2224 Shattuck Avenue Berkeley CA  Berkeley        NaN       NaN  \n",
       "154     1799 Solano Avenue Berkeley CA  Berkeley        NaN       NaN  \n",
       "155    1444 Shattuck Place Berkeley CA  Berkeley        NaN       NaN  \n",
       "156  3001 Telegraph Avenue Berkeley CA  Berkeley        NaN       NaN  \n",
       "157     2128 Oxford Street Berkeley CA  Berkeley        NaN       NaN  "
      ]
     },
     "execution_count": 4,
     "metadata": {},
     "output_type": "execute_result"
    }
   ],
   "source": [
    "# How many rows in each column have missing values?\n",
    "print(starbucks.isnull().sum())\n",
    "\n",
    "# View rows with missing locations\n",
    "rows_with_missing = starbucks[starbucks[\"City\"]==\"Berkeley\"]\n",
    "rows_with_missing"
   ]
  },
  {
   "cell_type": "markdown",
   "execution_count": null,
   "metadata": {},
   "source": [
    "Use the code cell below to fill in these values with the OpenStreetMap Nominatim geocoder.\n",
    "\n",
    "Note that in the tutorial, we used `geocode()` (from `geopandas.tools`) to geocode values, and this is what you can use in your own projects outside of this micro-course.  \n",
    "\n",
    "In this exercise, you will use a slightly different function `geocode()` (from `learntools.geospatial.tools`).  This function was imported at the top of the notebook and works identically to the function from GeoPandas.\n",
    "\n",
    "So, in other words, as long as: \n",
    "- you don't change the import statements at the top of the notebook, and \n",
    "- you call the geocoding function as `geocode()` in the code cell below, \n",
    "\n",
    "your code will work as intended!"
   ]
  },
  {
   "cell_type": "code",
   "execution_count": 5,
   "metadata": {},
   "outputs": [
    {
     "data": {
      "application/javascript": [
       "parent.postMessage({\"jupyterEvent\": \"custom.exercise_interaction\", \"data\": {\"outcomeType\": 1, \"valueTowardsCompletion\": 0.2, \"interactionType\": 1, \"questionType\": 2, \"learnTutorialId\": 277, \"questionId\": \"1_Q1\", \"learnToolsVersion\": \"0.3.2\", \"failureMessage\": \"\", \"exceptionClass\": \"\", \"trace\": \"\"}}, \"*\")"
      ],
      "text/plain": [
       "<IPython.core.display.Javascript object>"
      ]
     },
     "metadata": {},
     "output_type": "display_data"
    },
    {
     "data": {
      "text/markdown": [
       "<span style=\"color:#33cc33\">Correct</span>"
      ],
      "text/plain": [
       "Correct"
      ]
     },
     "metadata": {},
     "output_type": "display_data"
    }
   ],
   "source": [
    "# Your code here\n",
    "def my_geocoder(row):\n",
    "    try:\n",
    "        point = geocode(row, provider='nominatim').geometry[0]\n",
    "        return pd.Series({'Longitude': point.x, 'Latitude': point.y})\n",
    "    except:\n",
    "        return None\n",
    "\n",
    "berkeley_locations = rows_with_missing.apply(lambda x: my_geocoder(x['Address']), axis=1)\n",
    "starbucks.update(berkeley_locations)\n",
    "\n",
    "# Check your answer\n",
    "q_1.check()"
   ]
  },
  {
   "cell_type": "code",
   "execution_count": 6,
   "metadata": {},
   "outputs": [
    {
     "data": {
      "text/html": [
       "<div>\n",
       "<style scoped>\n",
       "    .dataframe tbody tr th:only-of-type {\n",
       "        vertical-align: middle;\n",
       "    }\n",
       "\n",
       "    .dataframe tbody tr th {\n",
       "        vertical-align: top;\n",
       "    }\n",
       "\n",
       "    .dataframe thead th {\n",
       "        text-align: right;\n",
       "    }\n",
       "</style>\n",
       "<table border=\"1\" class=\"dataframe\">\n",
       "  <thead>\n",
       "    <tr style=\"text-align: right;\">\n",
       "      <th></th>\n",
       "      <th>Store Number</th>\n",
       "      <th>Store Name</th>\n",
       "      <th>Address</th>\n",
       "      <th>City</th>\n",
       "      <th>Longitude</th>\n",
       "      <th>Latitude</th>\n",
       "    </tr>\n",
       "  </thead>\n",
       "  <tbody>\n",
       "    <tr>\n",
       "      <td>153</td>\n",
       "      <td>5406-945</td>\n",
       "      <td>2224 Shattuck - Berkeley</td>\n",
       "      <td>2224 Shattuck Avenue Berkeley CA</td>\n",
       "      <td>Berkeley</td>\n",
       "      <td>NaN</td>\n",
       "      <td>NaN</td>\n",
       "    </tr>\n",
       "    <tr>\n",
       "      <td>154</td>\n",
       "      <td>570-512</td>\n",
       "      <td>Solano Ave</td>\n",
       "      <td>1799 Solano Avenue Berkeley CA</td>\n",
       "      <td>Berkeley</td>\n",
       "      <td>NaN</td>\n",
       "      <td>NaN</td>\n",
       "    </tr>\n",
       "    <tr>\n",
       "      <td>155</td>\n",
       "      <td>17877-164526</td>\n",
       "      <td>Safeway - Berkeley #691</td>\n",
       "      <td>1444 Shattuck Place Berkeley CA</td>\n",
       "      <td>Berkeley</td>\n",
       "      <td>NaN</td>\n",
       "      <td>NaN</td>\n",
       "    </tr>\n",
       "    <tr>\n",
       "      <td>156</td>\n",
       "      <td>19864-202264</td>\n",
       "      <td>Telegraph &amp; Ashby</td>\n",
       "      <td>3001 Telegraph Avenue Berkeley CA</td>\n",
       "      <td>Berkeley</td>\n",
       "      <td>NaN</td>\n",
       "      <td>NaN</td>\n",
       "    </tr>\n",
       "    <tr>\n",
       "      <td>157</td>\n",
       "      <td>9217-9253</td>\n",
       "      <td>2128 Oxford St.</td>\n",
       "      <td>2128 Oxford Street Berkeley CA</td>\n",
       "      <td>Berkeley</td>\n",
       "      <td>NaN</td>\n",
       "      <td>NaN</td>\n",
       "    </tr>\n",
       "  </tbody>\n",
       "</table>\n",
       "</div>"
      ],
      "text/plain": [
       "     Store Number                Store Name  \\\n",
       "153      5406-945  2224 Shattuck - Berkeley   \n",
       "154       570-512                Solano Ave   \n",
       "155  17877-164526   Safeway - Berkeley #691   \n",
       "156  19864-202264         Telegraph & Ashby   \n",
       "157     9217-9253           2128 Oxford St.   \n",
       "\n",
       "                               Address      City  Longitude  Latitude  \n",
       "153   2224 Shattuck Avenue Berkeley CA  Berkeley        NaN       NaN  \n",
       "154     1799 Solano Avenue Berkeley CA  Berkeley        NaN       NaN  \n",
       "155    1444 Shattuck Place Berkeley CA  Berkeley        NaN       NaN  \n",
       "156  3001 Telegraph Avenue Berkeley CA  Berkeley        NaN       NaN  \n",
       "157     2128 Oxford Street Berkeley CA  Berkeley        NaN       NaN  "
      ]
     },
     "execution_count": 6,
     "metadata": {},
     "output_type": "execute_result"
    }
   ],
   "source": [
    "rows_with_missing"
   ]
  },
  {
   "cell_type": "code",
   "execution_count": 7,
   "metadata": {},
   "outputs": [
    {
     "data": {
      "text/html": [
       "<div>\n",
       "<style scoped>\n",
       "    .dataframe tbody tr th:only-of-type {\n",
       "        vertical-align: middle;\n",
       "    }\n",
       "\n",
       "    .dataframe tbody tr th {\n",
       "        vertical-align: top;\n",
       "    }\n",
       "\n",
       "    .dataframe thead th {\n",
       "        text-align: right;\n",
       "    }\n",
       "</style>\n",
       "<table border=\"1\" class=\"dataframe\">\n",
       "  <thead>\n",
       "    <tr style=\"text-align: right;\">\n",
       "      <th></th>\n",
       "      <th>Longitude</th>\n",
       "      <th>Latitude</th>\n",
       "    </tr>\n",
       "  </thead>\n",
       "  <tbody>\n",
       "    <tr>\n",
       "      <td>153</td>\n",
       "      <td>-122.268230</td>\n",
       "      <td>37.868839</td>\n",
       "    </tr>\n",
       "    <tr>\n",
       "      <td>154</td>\n",
       "      <td>-122.280050</td>\n",
       "      <td>37.891383</td>\n",
       "    </tr>\n",
       "    <tr>\n",
       "      <td>155</td>\n",
       "      <td>-122.269679</td>\n",
       "      <td>37.880907</td>\n",
       "    </tr>\n",
       "    <tr>\n",
       "      <td>156</td>\n",
       "      <td>-122.259370</td>\n",
       "      <td>37.855947</td>\n",
       "    </tr>\n",
       "    <tr>\n",
       "      <td>157</td>\n",
       "      <td>-122.266079</td>\n",
       "      <td>37.870410</td>\n",
       "    </tr>\n",
       "  </tbody>\n",
       "</table>\n",
       "</div>"
      ],
      "text/plain": [
       "      Longitude   Latitude\n",
       "153 -122.268230  37.868839\n",
       "154 -122.280050  37.891383\n",
       "155 -122.269679  37.880907\n",
       "156 -122.259370  37.855947\n",
       "157 -122.266079  37.870410"
      ]
     },
     "execution_count": 7,
     "metadata": {},
     "output_type": "execute_result"
    }
   ],
   "source": [
    "berkeley_locations"
   ]
  },
  {
   "cell_type": "code",
   "execution_count": 8,
   "metadata": {},
   "outputs": [
    {
     "data": {
      "text/html": [
       "<div>\n",
       "<style scoped>\n",
       "    .dataframe tbody tr th:only-of-type {\n",
       "        vertical-align: middle;\n",
       "    }\n",
       "\n",
       "    .dataframe tbody tr th {\n",
       "        vertical-align: top;\n",
       "    }\n",
       "\n",
       "    .dataframe thead th {\n",
       "        text-align: right;\n",
       "    }\n",
       "</style>\n",
       "<table border=\"1\" class=\"dataframe\">\n",
       "  <thead>\n",
       "    <tr style=\"text-align: right;\">\n",
       "      <th></th>\n",
       "      <th>Store Number</th>\n",
       "      <th>Store Name</th>\n",
       "      <th>Address</th>\n",
       "      <th>City</th>\n",
       "      <th>Longitude</th>\n",
       "      <th>Latitude</th>\n",
       "    </tr>\n",
       "  </thead>\n",
       "  <tbody>\n",
       "    <tr>\n",
       "      <td>153</td>\n",
       "      <td>5406-945</td>\n",
       "      <td>2224 Shattuck - Berkeley</td>\n",
       "      <td>2224 Shattuck Avenue Berkeley CA</td>\n",
       "      <td>Berkeley</td>\n",
       "      <td>NaN</td>\n",
       "      <td>NaN</td>\n",
       "    </tr>\n",
       "    <tr>\n",
       "      <td>154</td>\n",
       "      <td>570-512</td>\n",
       "      <td>Solano Ave</td>\n",
       "      <td>1799 Solano Avenue Berkeley CA</td>\n",
       "      <td>Berkeley</td>\n",
       "      <td>NaN</td>\n",
       "      <td>NaN</td>\n",
       "    </tr>\n",
       "    <tr>\n",
       "      <td>155</td>\n",
       "      <td>17877-164526</td>\n",
       "      <td>Safeway - Berkeley #691</td>\n",
       "      <td>1444 Shattuck Place Berkeley CA</td>\n",
       "      <td>Berkeley</td>\n",
       "      <td>NaN</td>\n",
       "      <td>NaN</td>\n",
       "    </tr>\n",
       "    <tr>\n",
       "      <td>156</td>\n",
       "      <td>19864-202264</td>\n",
       "      <td>Telegraph &amp; Ashby</td>\n",
       "      <td>3001 Telegraph Avenue Berkeley CA</td>\n",
       "      <td>Berkeley</td>\n",
       "      <td>NaN</td>\n",
       "      <td>NaN</td>\n",
       "    </tr>\n",
       "    <tr>\n",
       "      <td>157</td>\n",
       "      <td>9217-9253</td>\n",
       "      <td>2128 Oxford St.</td>\n",
       "      <td>2128 Oxford Street Berkeley CA</td>\n",
       "      <td>Berkeley</td>\n",
       "      <td>NaN</td>\n",
       "      <td>NaN</td>\n",
       "    </tr>\n",
       "  </tbody>\n",
       "</table>\n",
       "</div>"
      ],
      "text/plain": [
       "     Store Number                Store Name  \\\n",
       "153      5406-945  2224 Shattuck - Berkeley   \n",
       "154       570-512                Solano Ave   \n",
       "155  17877-164526   Safeway - Berkeley #691   \n",
       "156  19864-202264         Telegraph & Ashby   \n",
       "157     9217-9253           2128 Oxford St.   \n",
       "\n",
       "                               Address      City  Longitude  Latitude  \n",
       "153   2224 Shattuck Avenue Berkeley CA  Berkeley        NaN       NaN  \n",
       "154     1799 Solano Avenue Berkeley CA  Berkeley        NaN       NaN  \n",
       "155    1444 Shattuck Place Berkeley CA  Berkeley        NaN       NaN  \n",
       "156  3001 Telegraph Avenue Berkeley CA  Berkeley        NaN       NaN  \n",
       "157     2128 Oxford Street Berkeley CA  Berkeley        NaN       NaN  "
      ]
     },
     "execution_count": 8,
     "metadata": {},
     "output_type": "execute_result"
    }
   ],
   "source": [
    "rows_with_missing.loc[list(berkeley_locations.index)]"
   ]
  },
  {
   "cell_type": "code",
   "execution_count": 9,
   "metadata": {},
   "outputs": [
    {
     "data": {
      "application/javascript": [
       "parent.postMessage({\"jupyterEvent\": \"custom.exercise_interaction\", \"data\": {\"interactionType\": 3, \"questionType\": 2, \"learnTutorialId\": 277, \"questionId\": \"1_Q1\", \"learnToolsVersion\": \"0.3.2\", \"valueTowardsCompletion\": 0.0, \"failureMessage\": \"\", \"exceptionClass\": \"\", \"trace\": \"\", \"outcomeType\": 4}}, \"*\")"
      ],
      "text/plain": [
       "<IPython.core.display.Javascript object>"
      ]
     },
     "metadata": {},
     "output_type": "display_data"
    },
    {
     "data": {
      "text/markdown": [
       "<span style=\"color:#33cc99\">Solution:</span> \n",
       "```python\n",
       "def my_geocoder(row):\n",
       "    point = geocode(row, provider='nominatim').geometry[0]\n",
       "    return pd.Series({'Longitude': point.x, 'Latitude': point.y})\n",
       "\n",
       "berkeley_locations = rows_with_missing.apply(lambda x: my_geocoder(x['Address']), axis=1)\n",
       "starbucks.update(berkeley_locations)\n",
       "\n",
       "```"
      ],
      "text/plain": [
       "Solution: \n",
       "```python\n",
       "def my_geocoder(row):\n",
       "    point = geocode(row, provider='nominatim').geometry[0]\n",
       "    return pd.Series({'Longitude': point.x, 'Latitude': point.y})\n",
       "\n",
       "berkeley_locations = rows_with_missing.apply(lambda x: my_geocoder(x['Address']), axis=1)\n",
       "starbucks.update(berkeley_locations)\n",
       "\n",
       "```"
      ]
     },
     "metadata": {},
     "output_type": "display_data"
    }
   ],
   "source": [
    "# Line below will give you solution code\n",
    "q_1.solution()"
   ]
  },
  {
   "cell_type": "markdown",
   "execution_count": null,
   "metadata": {},
   "source": [
    "### 2) View Berkeley locations.\n",
    "\n",
    "Let's take a look at the locations you just found.  Visualize the (latitude, longitude) locations in Berkeley in the OpenStreetMap style. "
   ]
  },
  {
   "cell_type": "code",
   "execution_count": 10,
   "metadata": {},
   "outputs": [
    {
     "data": {
      "text/html": [
       "\n",
       "        <iframe\n",
       "            width=\"100%\"\n",
       "            height=\"500px\"\n",
       "            src=\"q_2.html\"\n",
       "            frameborder=\"0\"\n",
       "            allowfullscreen\n",
       "        ></iframe>\n",
       "        "
      ],
      "text/plain": [
       "<IPython.lib.display.IFrame at 0x7f3c8c0df358>"
      ]
     },
     "execution_count": 10,
     "metadata": {},
     "output_type": "execute_result"
    }
   ],
   "source": [
    "# Create a base map\n",
    "m_2 = folium.Map(location=[37.88,-122.26], zoom_start=13)\n",
    "\n",
    "# Your code here: Add a marker for each Berkeley location\n",
    "____\n",
    "\n",
    "# Uncomment to see a hint\n",
    "for idx, row in berkeley_locations.iterrows():\n",
    "    Marker([row['Latitude'], row['Longitude']], popup=rows_with_missing.loc[idx]['Address']).add_to(m_2)\n",
    "\n",
    "# Show the map\n",
    "embed_map(m_2, 'q_2.html')"
   ]
  },
  {
   "cell_type": "code",
   "execution_count": 11,
   "metadata": {},
   "outputs": [
    {
     "data": {
      "text/html": [
       "<div style=\"width:100%;\"><div style=\"position:relative;width:100%;height:0;padding-bottom:60%;\"><iframe src=\"data:text/html;charset=utf-8;base64,PCFET0NUWVBFIGh0bWw+CjxoZWFkPiAgICAKICAgIDxtZXRhIGh0dHAtZXF1aXY9ImNvbnRlbnQtdHlwZSIgY29udGVudD0idGV4dC9odG1sOyBjaGFyc2V0PVVURi04IiAvPgogICAgCiAgICAgICAgPHNjcmlwdD4KICAgICAgICAgICAgTF9OT19UT1VDSCA9IGZhbHNlOwogICAgICAgICAgICBMX0RJU0FCTEVfM0QgPSBmYWxzZTsKICAgICAgICA8L3NjcmlwdD4KICAgIAogICAgPHNjcmlwdCBzcmM9Imh0dHBzOi8vY2RuLmpzZGVsaXZyLm5ldC9ucG0vbGVhZmxldEAxLjUuMS9kaXN0L2xlYWZsZXQuanMiPjwvc2NyaXB0PgogICAgPHNjcmlwdCBzcmM9Imh0dHBzOi8vY29kZS5qcXVlcnkuY29tL2pxdWVyeS0xLjEyLjQubWluLmpzIj48L3NjcmlwdD4KICAgIDxzY3JpcHQgc3JjPSJodHRwczovL21heGNkbi5ib290c3RyYXBjZG4uY29tL2Jvb3RzdHJhcC8zLjIuMC9qcy9ib290c3RyYXAubWluLmpzIj48L3NjcmlwdD4KICAgIDxzY3JpcHQgc3JjPSJodHRwczovL2NkbmpzLmNsb3VkZmxhcmUuY29tL2FqYXgvbGlicy9MZWFmbGV0LmF3ZXNvbWUtbWFya2Vycy8yLjAuMi9sZWFmbGV0LmF3ZXNvbWUtbWFya2Vycy5qcyI+PC9zY3JpcHQ+CiAgICA8bGluayByZWw9InN0eWxlc2hlZXQiIGhyZWY9Imh0dHBzOi8vY2RuLmpzZGVsaXZyLm5ldC9ucG0vbGVhZmxldEAxLjUuMS9kaXN0L2xlYWZsZXQuY3NzIi8+CiAgICA8bGluayByZWw9InN0eWxlc2hlZXQiIGhyZWY9Imh0dHBzOi8vbWF4Y2RuLmJvb3RzdHJhcGNkbi5jb20vYm9vdHN0cmFwLzMuMi4wL2Nzcy9ib290c3RyYXAubWluLmNzcyIvPgogICAgPGxpbmsgcmVsPSJzdHlsZXNoZWV0IiBocmVmPSJodHRwczovL21heGNkbi5ib290c3RyYXBjZG4uY29tL2Jvb3RzdHJhcC8zLjIuMC9jc3MvYm9vdHN0cmFwLXRoZW1lLm1pbi5jc3MiLz4KICAgIDxsaW5rIHJlbD0ic3R5bGVzaGVldCIgaHJlZj0iaHR0cHM6Ly9tYXhjZG4uYm9vdHN0cmFwY2RuLmNvbS9mb250LWF3ZXNvbWUvNC42LjMvY3NzL2ZvbnQtYXdlc29tZS5taW4uY3NzIi8+CiAgICA8bGluayByZWw9InN0eWxlc2hlZXQiIGhyZWY9Imh0dHBzOi8vY2RuanMuY2xvdWRmbGFyZS5jb20vYWpheC9saWJzL0xlYWZsZXQuYXdlc29tZS1tYXJrZXJzLzIuMC4yL2xlYWZsZXQuYXdlc29tZS1tYXJrZXJzLmNzcyIvPgogICAgPGxpbmsgcmVsPSJzdHlsZXNoZWV0IiBocmVmPSJodHRwczovL3Jhd2Nkbi5naXRoYWNrLmNvbS9weXRob24tdmlzdWFsaXphdGlvbi9mb2xpdW0vbWFzdGVyL2ZvbGl1bS90ZW1wbGF0ZXMvbGVhZmxldC5hd2Vzb21lLnJvdGF0ZS5jc3MiLz4KICAgIDxzdHlsZT5odG1sLCBib2R5IHt3aWR0aDogMTAwJTtoZWlnaHQ6IDEwMCU7bWFyZ2luOiAwO3BhZGRpbmc6IDA7fTwvc3R5bGU+CiAgICA8c3R5bGU+I21hcCB7cG9zaXRpb246YWJzb2x1dGU7dG9wOjA7Ym90dG9tOjA7cmlnaHQ6MDtsZWZ0OjA7fTwvc3R5bGU+CiAgICAKICAgICAgICAgICAgPG1ldGEgbmFtZT0idmlld3BvcnQiIGNvbnRlbnQ9IndpZHRoPWRldmljZS13aWR0aCwKICAgICAgICAgICAgICAgIGluaXRpYWwtc2NhbGU9MS4wLCBtYXhpbXVtLXNjYWxlPTEuMCwgdXNlci1zY2FsYWJsZT1ubyIgLz4KICAgICAgICAgICAgPHN0eWxlPgogICAgICAgICAgICAgICAgI21hcF80YmQ0MjhiOTAwNjg0NTljYmNkNzIzZjliMTE3MzQ4NCB7CiAgICAgICAgICAgICAgICAgICAgcG9zaXRpb246IHJlbGF0aXZlOwogICAgICAgICAgICAgICAgICAgIHdpZHRoOiAxMDAuMCU7CiAgICAgICAgICAgICAgICAgICAgaGVpZ2h0OiAxMDAuMCU7CiAgICAgICAgICAgICAgICAgICAgbGVmdDogMC4wJTsKICAgICAgICAgICAgICAgICAgICB0b3A6IDAuMCU7CiAgICAgICAgICAgICAgICB9CiAgICAgICAgICAgIDwvc3R5bGU+CiAgICAgICAgCjwvaGVhZD4KPGJvZHk+ICAgIAogICAgCiAgICAgICAgICAgIDxkaXYgY2xhc3M9ImZvbGl1bS1tYXAiIGlkPSJtYXBfNGJkNDI4YjkwMDY4NDU5Y2JjZDcyM2Y5YjExNzM0ODQiID48L2Rpdj4KICAgICAgICAKPC9ib2R5Pgo8c2NyaXB0PiAgICAKICAgIAogICAgICAgICAgICB2YXIgbWFwXzRiZDQyOGI5MDA2ODQ1OWNiY2Q3MjNmOWIxMTczNDg0ID0gTC5tYXAoCiAgICAgICAgICAgICAgICAibWFwXzRiZDQyOGI5MDA2ODQ1OWNiY2Q3MjNmOWIxMTczNDg0IiwKICAgICAgICAgICAgICAgIHsKICAgICAgICAgICAgICAgICAgICBjZW50ZXI6IFszNy44OCwgLTEyMi4yNl0sCiAgICAgICAgICAgICAgICAgICAgY3JzOiBMLkNSUy5FUFNHMzg1NywKICAgICAgICAgICAgICAgICAgICB6b29tOiAxMywKICAgICAgICAgICAgICAgICAgICB6b29tQ29udHJvbDogdHJ1ZSwKICAgICAgICAgICAgICAgICAgICBwcmVmZXJDYW52YXM6IGZhbHNlLAogICAgICAgICAgICAgICAgfQogICAgICAgICAgICApOwoKICAgICAgICAgICAgCgogICAgICAgIAogICAgCiAgICAgICAgICAgIHZhciB0aWxlX2xheWVyXzRmMjY1YWViMjI3MjQzOWJhODFhYjdiMTAxMDIyM2M0ID0gTC50aWxlTGF5ZXIoCiAgICAgICAgICAgICAgICAiaHR0cHM6Ly97c30udGlsZS5vcGVuc3RyZWV0bWFwLm9yZy97en0ve3h9L3t5fS5wbmciLAogICAgICAgICAgICAgICAgeyJhdHRyaWJ1dGlvbiI6ICJEYXRhIGJ5IFx1MDAyNmNvcHk7IFx1MDAzY2EgaHJlZj1cImh0dHA6Ly9vcGVuc3RyZWV0bWFwLm9yZ1wiXHUwMDNlT3BlblN0cmVldE1hcFx1MDAzYy9hXHUwMDNlLCB1bmRlciBcdTAwM2NhIGhyZWY9XCJodHRwOi8vd3d3Lm9wZW5zdHJlZXRtYXAub3JnL2NvcHlyaWdodFwiXHUwMDNlT0RiTFx1MDAzYy9hXHUwMDNlLiIsICJkZXRlY3RSZXRpbmEiOiBmYWxzZSwgIm1heE5hdGl2ZVpvb20iOiAxOCwgIm1heFpvb20iOiAxOCwgIm1pblpvb20iOiAwLCAibm9XcmFwIjogZmFsc2UsICJvcGFjaXR5IjogMSwgInN1YmRvbWFpbnMiOiAiYWJjIiwgInRtcyI6IGZhbHNlfQogICAgICAgICAgICApLmFkZFRvKG1hcF80YmQ0MjhiOTAwNjg0NTljYmNkNzIzZjliMTE3MzQ4NCk7CiAgICAgICAgCiAgICAKICAgICAgICAgICAgdmFyIG1hcmtlcl8xYzkyMzg5OTNkN2I0NzlhYTEyZDI2ZmNlNjUxNzhmMSA9IEwubWFya2VyKAogICAgICAgICAgICAgICAgWzM3Ljg2ODgzOTUsIC0xMjIuMjY4MjMwMl0sCiAgICAgICAgICAgICAgICB7fQogICAgICAgICAgICApLmFkZFRvKG1hcF80YmQ0MjhiOTAwNjg0NTljYmNkNzIzZjliMTE3MzQ4NCk7CiAgICAgICAgCiAgICAKICAgICAgICB2YXIgcG9wdXBfNTkzZjFjOTA0MDU2NDBmNDliYmJlYTRjNThjMWQ2NWQgPSBMLnBvcHVwKHsibWF4V2lkdGgiOiAiMTAwJSJ9KTsKCiAgICAgICAgCiAgICAgICAgICAgIHZhciBodG1sXzdhZDU1NDk5YTNjMjRiNjhiNzlhMDY5Y2U4ZDRjNzk3ID0gJChgPGRpdiBpZD0iaHRtbF83YWQ1NTQ5OWEzYzI0YjY4Yjc5YTA2OWNlOGQ0Yzc5NyIgc3R5bGU9IndpZHRoOiAxMDAuMCU7IGhlaWdodDogMTAwLjAlOyI+MjIyNCBTaGF0dHVjayBBdmVudWUgQmVya2VsZXkgQ0E8L2Rpdj5gKVswXTsKICAgICAgICAgICAgcG9wdXBfNTkzZjFjOTA0MDU2NDBmNDliYmJlYTRjNThjMWQ2NWQuc2V0Q29udGVudChodG1sXzdhZDU1NDk5YTNjMjRiNjhiNzlhMDY5Y2U4ZDRjNzk3KTsKICAgICAgICAKCiAgICAgICAgbWFya2VyXzFjOTIzODk5M2Q3YjQ3OWFhMTJkMjZmY2U2NTE3OGYxLmJpbmRQb3B1cChwb3B1cF81OTNmMWM5MDQwNTY0MGY0OWJiYmVhNGM1OGMxZDY1ZCkKICAgICAgICA7CgogICAgICAgIAogICAgCiAgICAKICAgICAgICAgICAgdmFyIG1hcmtlcl9mZjBjY2FiYzVmZDE0YmYzYmUxYmIyMDJmYmJjOWExMiA9IEwubWFya2VyKAogICAgICAgICAgICAgICAgWzM3Ljg5MTM4MywgLTEyMi4yODAwNV0sCiAgICAgICAgICAgICAgICB7fQogICAgICAgICAgICApLmFkZFRvKG1hcF80YmQ0MjhiOTAwNjg0NTljYmNkNzIzZjliMTE3MzQ4NCk7CiAgICAgICAgCiAgICAKICAgICAgICB2YXIgcG9wdXBfMWUzMWY3MWMxNDRjNDYzYzllNjg0Y2U5YjI1Y2ZjMDggPSBMLnBvcHVwKHsibWF4V2lkdGgiOiAiMTAwJSJ9KTsKCiAgICAgICAgCiAgICAgICAgICAgIHZhciBodG1sXzU1NGRiYzg4N2MzYzQxYTRiYzRkOGQ5OThlOWU0ZDYxID0gJChgPGRpdiBpZD0iaHRtbF81NTRkYmM4ODdjM2M0MWE0YmM0ZDhkOTk4ZTllNGQ2MSIgc3R5bGU9IndpZHRoOiAxMDAuMCU7IGhlaWdodDogMTAwLjAlOyI+MTc5OSBTb2xhbm8gQXZlbnVlIEJlcmtlbGV5IENBPC9kaXY+YClbMF07CiAgICAgICAgICAgIHBvcHVwXzFlMzFmNzFjMTQ0YzQ2M2M5ZTY4NGNlOWIyNWNmYzA4LnNldENvbnRlbnQoaHRtbF81NTRkYmM4ODdjM2M0MWE0YmM0ZDhkOTk4ZTllNGQ2MSk7CiAgICAgICAgCgogICAgICAgIG1hcmtlcl9mZjBjY2FiYzVmZDE0YmYzYmUxYmIyMDJmYmJjOWExMi5iaW5kUG9wdXAocG9wdXBfMWUzMWY3MWMxNDRjNDYzYzllNjg0Y2U5YjI1Y2ZjMDgpCiAgICAgICAgOwoKICAgICAgICAKICAgIAogICAgCiAgICAgICAgICAgIHZhciBtYXJrZXJfMjhiYTZiMzQ1YmU5NDg1NjgxOTY2MTFhNDQ3Zjc2OTggPSBMLm1hcmtlcigKICAgICAgICAgICAgICAgIFszNy44ODA5MDczLCAtMTIyLjI2OTY3OTJdLAogICAgICAgICAgICAgICAge30KICAgICAgICAgICAgKS5hZGRUbyhtYXBfNGJkNDI4YjkwMDY4NDU5Y2JjZDcyM2Y5YjExNzM0ODQpOwogICAgICAgIAogICAgCiAgICAgICAgdmFyIHBvcHVwXzZmZjIzYzFkYTlhYzRjZDE5OTM5YTY1MTIxZmVkNWRlID0gTC5wb3B1cCh7Im1heFdpZHRoIjogIjEwMCUifSk7CgogICAgICAgIAogICAgICAgICAgICB2YXIgaHRtbF8yM2JiM2EzYjYyYTM0OGU2OWYxMTBjOWVjNTA4M2M2MiA9ICQoYDxkaXYgaWQ9Imh0bWxfMjNiYjNhM2I2MmEzNDhlNjlmMTEwYzllYzUwODNjNjIiIHN0eWxlPSJ3aWR0aDogMTAwLjAlOyBoZWlnaHQ6IDEwMC4wJTsiPjE0NDQgU2hhdHR1Y2sgUGxhY2UgQmVya2VsZXkgQ0E8L2Rpdj5gKVswXTsKICAgICAgICAgICAgcG9wdXBfNmZmMjNjMWRhOWFjNGNkMTk5MzlhNjUxMjFmZWQ1ZGUuc2V0Q29udGVudChodG1sXzIzYmIzYTNiNjJhMzQ4ZTY5ZjExMGM5ZWM1MDgzYzYyKTsKICAgICAgICAKCiAgICAgICAgbWFya2VyXzI4YmE2YjM0NWJlOTQ4NTY4MTk2NjExYTQ0N2Y3Njk4LmJpbmRQb3B1cChwb3B1cF82ZmYyM2MxZGE5YWM0Y2QxOTkzOWE2NTEyMWZlZDVkZSkKICAgICAgICA7CgogICAgICAgIAogICAgCiAgICAKICAgICAgICAgICAgdmFyIG1hcmtlcl83ZjkyNWFjMzlkMTk0ZDc0YTQzY2ZiMTIxNGI3NTQ1OCA9IEwubWFya2VyKAogICAgICAgICAgICAgICAgWzM3Ljg1NTk0NzIsIC0xMjIuMjU5MzY5NjM1MDczXSwKICAgICAgICAgICAgICAgIHt9CiAgICAgICAgICAgICkuYWRkVG8obWFwXzRiZDQyOGI5MDA2ODQ1OWNiY2Q3MjNmOWIxMTczNDg0KTsKICAgICAgICAKICAgIAogICAgICAgIHZhciBwb3B1cF84ODU5MWM5NDg2MWU0NTYyOTQwOTIwMTU5YzVhZjNkOSA9IEwucG9wdXAoeyJtYXhXaWR0aCI6ICIxMDAlIn0pOwoKICAgICAgICAKICAgICAgICAgICAgdmFyIGh0bWxfYzUxMDFlODI1YzUyNGYwNmIyNDdlMmJhNzBhYzhiZTMgPSAkKGA8ZGl2IGlkPSJodG1sX2M1MTAxZTgyNWM1MjRmMDZiMjQ3ZTJiYTcwYWM4YmUzIiBzdHlsZT0id2lkdGg6IDEwMC4wJTsgaGVpZ2h0OiAxMDAuMCU7Ij4zMDAxIFRlbGVncmFwaCBBdmVudWUgQmVya2VsZXkgQ0E8L2Rpdj5gKVswXTsKICAgICAgICAgICAgcG9wdXBfODg1OTFjOTQ4NjFlNDU2Mjk0MDkyMDE1OWM1YWYzZDkuc2V0Q29udGVudChodG1sX2M1MTAxZTgyNWM1MjRmMDZiMjQ3ZTJiYTcwYWM4YmUzKTsKICAgICAgICAKCiAgICAgICAgbWFya2VyXzdmOTI1YWMzOWQxOTRkNzRhNDNjZmIxMjE0Yjc1NDU4LmJpbmRQb3B1cChwb3B1cF84ODU5MWM5NDg2MWU0NTYyOTQwOTIwMTU5YzVhZjNkOSkKICAgICAgICA7CgogICAgICAgIAogICAgCiAgICAKICAgICAgICAgICAgdmFyIG1hcmtlcl8yNjBmODBkNDBmOGQ0M2QxYjg3MDc2MDBmYzYzNmFhNyA9IEwubWFya2VyKAogICAgICAgICAgICAgICAgWzM3Ljg3MDQxLCAtMTIyLjI2NjA3OV0sCiAgICAgICAgICAgICAgICB7fQogICAgICAgICAgICApLmFkZFRvKG1hcF80YmQ0MjhiOTAwNjg0NTljYmNkNzIzZjliMTE3MzQ4NCk7CiAgICAgICAgCiAgICAKICAgICAgICB2YXIgcG9wdXBfZjQ4ODJmNjdhMzlkNDZjMmE5N2I5ZTViNThkNDkzYWYgPSBMLnBvcHVwKHsibWF4V2lkdGgiOiAiMTAwJSJ9KTsKCiAgICAgICAgCiAgICAgICAgICAgIHZhciBodG1sXzMwMWI2MDU4M2NiMTQ3MTViM2JlZDMwYTMwNzM0NTkwID0gJChgPGRpdiBpZD0iaHRtbF8zMDFiNjA1ODNjYjE0NzE1YjNiZWQzMGEzMDczNDU5MCIgc3R5bGU9IndpZHRoOiAxMDAuMCU7IGhlaWdodDogMTAwLjAlOyI+MjEyOCBPeGZvcmQgU3RyZWV0IEJlcmtlbGV5IENBPC9kaXY+YClbMF07CiAgICAgICAgICAgIHBvcHVwX2Y0ODgyZjY3YTM5ZDQ2YzJhOTdiOWU1YjU4ZDQ5M2FmLnNldENvbnRlbnQoaHRtbF8zMDFiNjA1ODNjYjE0NzE1YjNiZWQzMGEzMDczNDU5MCk7CiAgICAgICAgCgogICAgICAgIG1hcmtlcl8yNjBmODBkNDBmOGQ0M2QxYjg3MDc2MDBmYzYzNmFhNy5iaW5kUG9wdXAocG9wdXBfZjQ4ODJmNjdhMzlkNDZjMmE5N2I5ZTViNThkNDkzYWYpCiAgICAgICAgOwoKICAgICAgICAKICAgIAo8L3NjcmlwdD4=\" style=\"position:absolute;width:100%;height:100%;left:0;top:0;border:none !important;\" allowfullscreen webkitallowfullscreen mozallowfullscreen></iframe></div></div>"
      ],
      "text/plain": [
       "<folium.folium.Map at 0x7f3c8c04b5c0>"
      ]
     },
     "execution_count": 11,
     "metadata": {},
     "output_type": "execute_result"
    }
   ],
   "source": [
    "m_2"
   ]
  },
  {
   "cell_type": "code",
   "execution_count": 12,
   "metadata": {},
   "outputs": [
    {
     "data": {
      "application/javascript": [
       "parent.postMessage({\"jupyterEvent\": \"custom.exercise_interaction\", \"data\": {\"outcomeType\": 1, \"valueTowardsCompletion\": 0.2, \"interactionType\": 1, \"questionType\": 2, \"learnTutorialId\": 277, \"questionId\": \"2.1_Q2P\", \"learnToolsVersion\": \"0.3.2\", \"failureMessage\": \"\", \"exceptionClass\": \"\", \"trace\": \"\"}}, \"*\")"
      ],
      "text/plain": [
       "<IPython.core.display.Javascript object>"
      ]
     },
     "metadata": {},
     "output_type": "display_data"
    },
    {
     "data": {
      "text/markdown": [
       "<span style=\"color:#33cc33\">Thank you for creating a map!</span>"
      ],
      "text/plain": [
       "Thank you for creating a map!"
      ]
     },
     "metadata": {},
     "output_type": "display_data"
    },
    {
     "data": {
      "application/javascript": [
       "parent.postMessage({\"jupyterEvent\": \"custom.exercise_interaction\", \"data\": {\"interactionType\": 3, \"questionType\": 2, \"learnTutorialId\": 277, \"questionId\": \"2.1_Q2P\", \"learnToolsVersion\": \"0.3.2\", \"valueTowardsCompletion\": 0.0, \"failureMessage\": \"\", \"exceptionClass\": \"\", \"trace\": \"\", \"outcomeType\": 4}}, \"*\")"
      ],
      "text/plain": [
       "<IPython.core.display.Javascript object>"
      ]
     },
     "metadata": {},
     "output_type": "display_data"
    },
    {
     "data": {
      "text/markdown": [
       "<span style=\"color:#33cc99\">Solution:</span> \n",
       "```python\n",
       "# Add a marker for each Berkeley location\n",
       "for idx, row in starbucks[starbucks[\"City\"]=='Berkeley'].iterrows():\n",
       "    Marker([row['Latitude'], row['Longitude']]).add_to(m_2)\n",
       "\n",
       "```"
      ],
      "text/plain": [
       "Solution: \n",
       "```python\n",
       "# Add a marker for each Berkeley location\n",
       "for idx, row in starbucks[starbucks[\"City\"]=='Berkeley'].iterrows():\n",
       "    Marker([row['Latitude'], row['Longitude']]).add_to(m_2)\n",
       "\n",
       "```"
      ]
     },
     "metadata": {},
     "output_type": "display_data"
    }
   ],
   "source": [
    "# Get credit for your work after you have created a map\n",
    "q_2.a.check()\n",
    "\n",
    "# Uncomment to see our solution (your code may look different!)\n",
    "q_2.a.solution()"
   ]
  },
  {
   "cell_type": "markdown",
   "execution_count": null,
   "metadata": {},
   "source": [
    "Considering only the five locations in Berkeley, how many of the (latitude, longitude) locations seem potentially correct (are located in the correct city)?"
   ]
  },
  {
   "cell_type": "code",
   "execution_count": 13,
   "metadata": {},
   "outputs": [
    {
     "data": {
      "application/javascript": [
       "parent.postMessage({\"jupyterEvent\": \"custom.exercise_interaction\", \"data\": {\"interactionType\": 3, \"questionType\": 4, \"learnTutorialId\": 277, \"questionId\": \"2.2_Q2T\", \"learnToolsVersion\": \"0.3.2\", \"valueTowardsCompletion\": 0.0, \"failureMessage\": \"\", \"exceptionClass\": \"\", \"trace\": \"\", \"outcomeType\": 4}}, \"*\")"
      ],
      "text/plain": [
       "<IPython.core.display.Javascript object>"
      ]
     },
     "metadata": {},
     "output_type": "display_data"
    },
    {
     "data": {
      "text/markdown": [
       "<span style=\"color:#33cc99\">Solution:</span> All five locations appear to be correct!"
      ],
      "text/plain": [
       "Solution: All five locations appear to be correct!"
      ]
     },
     "metadata": {},
     "output_type": "display_data"
    }
   ],
   "source": [
    "# View the solution (Run this code cell to receive credit!)\n",
    "q_2.b.solution()"
   ]
  },
  {
   "cell_type": "markdown",
   "execution_count": null,
   "metadata": {},
   "source": [
    "### 3) Consolidate your data.\n",
    "\n",
    "Run the code below to load a GeoDataFrame `CA_counties` containing the name, area (in square kilometers), and a unique id (in the \"GEOID\" column) for each county in the state of California.  The \"geometry\" column contains a polygon with county boundaries."
   ]
  },
  {
   "cell_type": "code",
   "execution_count": 14,
   "metadata": {},
   "outputs": [
    {
     "data": {
      "text/html": [
       "<div>\n",
       "<style scoped>\n",
       "    .dataframe tbody tr th:only-of-type {\n",
       "        vertical-align: middle;\n",
       "    }\n",
       "\n",
       "    .dataframe tbody tr th {\n",
       "        vertical-align: top;\n",
       "    }\n",
       "\n",
       "    .dataframe thead th {\n",
       "        text-align: right;\n",
       "    }\n",
       "</style>\n",
       "<table border=\"1\" class=\"dataframe\">\n",
       "  <thead>\n",
       "    <tr style=\"text-align: right;\">\n",
       "      <th></th>\n",
       "      <th>GEOID</th>\n",
       "      <th>name</th>\n",
       "      <th>area_sqkm</th>\n",
       "      <th>geometry</th>\n",
       "    </tr>\n",
       "  </thead>\n",
       "  <tbody>\n",
       "    <tr>\n",
       "      <td>0</td>\n",
       "      <td>6091</td>\n",
       "      <td>Sierra County</td>\n",
       "      <td>2491.995494</td>\n",
       "      <td>POLYGON ((-120.6555981820125 39.69356523820564...</td>\n",
       "    </tr>\n",
       "    <tr>\n",
       "      <td>1</td>\n",
       "      <td>6067</td>\n",
       "      <td>Sacramento County</td>\n",
       "      <td>2575.258262</td>\n",
       "      <td>POLYGON ((-121.1885841398944 38.71431311442083...</td>\n",
       "    </tr>\n",
       "    <tr>\n",
       "      <td>2</td>\n",
       "      <td>6083</td>\n",
       "      <td>Santa Barbara County</td>\n",
       "      <td>9813.817958</td>\n",
       "      <td>(POLYGON ((-120.5819095703916 34.0985617276066...</td>\n",
       "    </tr>\n",
       "    <tr>\n",
       "      <td>3</td>\n",
       "      <td>6009</td>\n",
       "      <td>Calaveras County</td>\n",
       "      <td>2685.626726</td>\n",
       "      <td>POLYGON ((-120.6309460064869 38.34110512435024...</td>\n",
       "    </tr>\n",
       "    <tr>\n",
       "      <td>4</td>\n",
       "      <td>6111</td>\n",
       "      <td>Ventura County</td>\n",
       "      <td>5719.321379</td>\n",
       "      <td>(POLYGON ((-119.6363143545649 33.2730446943631...</td>\n",
       "    </tr>\n",
       "  </tbody>\n",
       "</table>\n",
       "</div>"
      ],
      "text/plain": [
       "   GEOID                  name    area_sqkm  \\\n",
       "0   6091         Sierra County  2491.995494   \n",
       "1   6067     Sacramento County  2575.258262   \n",
       "2   6083  Santa Barbara County  9813.817958   \n",
       "3   6009      Calaveras County  2685.626726   \n",
       "4   6111        Ventura County  5719.321379   \n",
       "\n",
       "                                            geometry  \n",
       "0  POLYGON ((-120.6555981820125 39.69356523820564...  \n",
       "1  POLYGON ((-121.1885841398944 38.71431311442083...  \n",
       "2  (POLYGON ((-120.5819095703916 34.0985617276066...  \n",
       "3  POLYGON ((-120.6309460064869 38.34110512435024...  \n",
       "4  (POLYGON ((-119.6363143545649 33.2730446943631...  "
      ]
     },
     "execution_count": 14,
     "metadata": {},
     "output_type": "execute_result"
    }
   ],
   "source": [
    "CA_counties = gpd.read_file(\"../input/geospatial-learn-course-data/CA_county_boundaries/CA_county_boundaries/CA_county_boundaries.shp\")\n",
    "CA_counties.head()"
   ]
  },
  {
   "cell_type": "markdown",
   "execution_count": null,
   "metadata": {},
   "source": [
    "Next, we create three DataFrames:\n",
    "- `CA_pop` contains an estimate of the population of each county.\n",
    "- `CA_high_earners` contains the number of households with an income of at least $150,000 per year.\n",
    "- `CA_median_age` contains the median age for each county."
   ]
  },
  {
   "cell_type": "code",
   "execution_count": 15,
   "metadata": {},
   "outputs": [],
   "source": [
    "CA_pop = pd.read_csv(\"../input/geospatial-learn-course-data/CA_county_population.csv\", index_col=\"GEOID\")\n",
    "CA_high_earners = pd.read_csv(\"../input/geospatial-learn-course-data/CA_county_high_earners.csv\", index_col=\"GEOID\")\n",
    "CA_median_age = pd.read_csv(\"../input/geospatial-learn-course-data/CA_county_median_age.csv\", index_col=\"GEOID\")"
   ]
  },
  {
   "cell_type": "code",
   "execution_count": 16,
   "metadata": {},
   "outputs": [
    {
     "data": {
      "text/html": [
       "<div>\n",
       "<style scoped>\n",
       "    .dataframe tbody tr th:only-of-type {\n",
       "        vertical-align: middle;\n",
       "    }\n",
       "\n",
       "    .dataframe tbody tr th {\n",
       "        vertical-align: top;\n",
       "    }\n",
       "\n",
       "    .dataframe thead th {\n",
       "        text-align: right;\n",
       "    }\n",
       "</style>\n",
       "<table border=\"1\" class=\"dataframe\">\n",
       "  <thead>\n",
       "    <tr style=\"text-align: right;\">\n",
       "      <th></th>\n",
       "      <th>population</th>\n",
       "    </tr>\n",
       "    <tr>\n",
       "      <th>GEOID</th>\n",
       "      <th></th>\n",
       "    </tr>\n",
       "  </thead>\n",
       "  <tbody>\n",
       "    <tr>\n",
       "      <td>6001</td>\n",
       "      <td>1666753</td>\n",
       "    </tr>\n",
       "    <tr>\n",
       "      <td>6003</td>\n",
       "      <td>1101</td>\n",
       "    </tr>\n",
       "    <tr>\n",
       "      <td>6005</td>\n",
       "      <td>39383</td>\n",
       "    </tr>\n",
       "    <tr>\n",
       "      <td>6007</td>\n",
       "      <td>231256</td>\n",
       "    </tr>\n",
       "    <tr>\n",
       "      <td>6009</td>\n",
       "      <td>45602</td>\n",
       "    </tr>\n",
       "  </tbody>\n",
       "</table>\n",
       "</div>"
      ],
      "text/plain": [
       "       population\n",
       "GEOID            \n",
       "6001      1666753\n",
       "6003         1101\n",
       "6005        39383\n",
       "6007       231256\n",
       "6009        45602"
      ]
     },
     "execution_count": 16,
     "metadata": {},
     "output_type": "execute_result"
    }
   ],
   "source": [
    "CA_pop.head()"
   ]
  },
  {
   "cell_type": "code",
   "execution_count": 17,
   "metadata": {},
   "outputs": [
    {
     "data": {
      "text/html": [
       "<div>\n",
       "<style scoped>\n",
       "    .dataframe tbody tr th:only-of-type {\n",
       "        vertical-align: middle;\n",
       "    }\n",
       "\n",
       "    .dataframe tbody tr th {\n",
       "        vertical-align: top;\n",
       "    }\n",
       "\n",
       "    .dataframe thead th {\n",
       "        text-align: right;\n",
       "    }\n",
       "</style>\n",
       "<table border=\"1\" class=\"dataframe\">\n",
       "  <thead>\n",
       "    <tr style=\"text-align: right;\">\n",
       "      <th></th>\n",
       "      <th>high_earners</th>\n",
       "    </tr>\n",
       "    <tr>\n",
       "      <th>GEOID</th>\n",
       "      <th></th>\n",
       "    </tr>\n",
       "  </thead>\n",
       "  <tbody>\n",
       "    <tr>\n",
       "      <td>6001</td>\n",
       "      <td>145696</td>\n",
       "    </tr>\n",
       "    <tr>\n",
       "      <td>6003</td>\n",
       "      <td>30</td>\n",
       "    </tr>\n",
       "    <tr>\n",
       "      <td>6005</td>\n",
       "      <td>1220</td>\n",
       "    </tr>\n",
       "    <tr>\n",
       "      <td>6007</td>\n",
       "      <td>6860</td>\n",
       "    </tr>\n",
       "    <tr>\n",
       "      <td>6009</td>\n",
       "      <td>2046</td>\n",
       "    </tr>\n",
       "  </tbody>\n",
       "</table>\n",
       "</div>"
      ],
      "text/plain": [
       "       high_earners\n",
       "GEOID              \n",
       "6001         145696\n",
       "6003             30\n",
       "6005           1220\n",
       "6007           6860\n",
       "6009           2046"
      ]
     },
     "execution_count": 17,
     "metadata": {},
     "output_type": "execute_result"
    }
   ],
   "source": [
    "CA_high_earners.head()"
   ]
  },
  {
   "cell_type": "markdown",
   "execution_count": null,
   "metadata": {},
   "source": [
    "Use the next code cell to join the `CA_counties` GeoDataFrame with `CA_pop`, `CA_high_earners`, and `CA_median_age`.\n",
    "\n",
    "Name the resultant GeoDataFrame `CA_stats`, and make sure it has 8 columns: \"GEOID\", \"name\", \"area_sqkm\", \"geometry\", \"population\", \"high_earners\", and \"median_age\".  Also, make sure the CRS is set to `{'init': 'epsg:4326'}`."
   ]
  },
  {
   "cell_type": "code",
   "execution_count": 18,
   "metadata": {},
   "outputs": [
    {
     "data": {
      "application/javascript": [
       "parent.postMessage({\"jupyterEvent\": \"custom.exercise_interaction\", \"data\": {\"outcomeType\": 1, \"valueTowardsCompletion\": 0.2, \"interactionType\": 1, \"questionType\": 2, \"learnTutorialId\": 277, \"questionId\": \"3_Q3\", \"learnToolsVersion\": \"0.3.2\", \"failureMessage\": \"\", \"exceptionClass\": \"\", \"trace\": \"\"}}, \"*\")"
      ],
      "text/plain": [
       "<IPython.core.display.Javascript object>"
      ]
     },
     "metadata": {},
     "output_type": "display_data"
    },
    {
     "data": {
      "text/markdown": [
       "<span style=\"color:#33cc33\">Correct</span>"
      ],
      "text/plain": [
       "Correct"
      ]
     },
     "metadata": {},
     "output_type": "display_data"
    }
   ],
   "source": [
    "# Your code here\n",
    "cols_to_add = CA_pop.join([CA_high_earners, CA_median_age]).reset_index()\n",
    "CA_stats = CA_counties.merge(cols_to_add, on=\"GEOID\")\n",
    "\n",
    "# Check your answer\n",
    "q_3.check()"
   ]
  },
  {
   "cell_type": "code",
   "execution_count": 19,
   "metadata": {},
   "outputs": [
    {
     "data": {
      "application/javascript": [
       "parent.postMessage({\"jupyterEvent\": \"custom.exercise_interaction\", \"data\": {\"interactionType\": 2, \"questionType\": 2, \"learnTutorialId\": 277, \"questionId\": \"3_Q3\", \"learnToolsVersion\": \"0.3.2\", \"valueTowardsCompletion\": 0.0, \"failureMessage\": \"\", \"exceptionClass\": \"\", \"trace\": \"\", \"outcomeType\": 4}}, \"*\")"
      ],
      "text/plain": [
       "<IPython.core.display.Javascript object>"
      ]
     },
     "metadata": {},
     "output_type": "display_data"
    },
    {
     "data": {
      "text/markdown": [
       "<span style=\"color:#3366cc\">Hint:</span> Begin by using [`pd.DataFrame.join()`](https://www.kaggle.com/residentmario/renaming-and-combining)to join the three DataFrames together.  Then, add this new DataFrame to the `CA_counties`GeoDataFrame with `gpd.GeoDataFrame.merge()`."
      ],
      "text/plain": [
       "Hint: Begin by using [`pd.DataFrame.join()`](https://www.kaggle.com/residentmario/renaming-and-combining)to join the three DataFrames together.  Then, add this new DataFrame to the `CA_counties`GeoDataFrame with `gpd.GeoDataFrame.merge()`."
      ]
     },
     "metadata": {},
     "output_type": "display_data"
    },
    {
     "data": {
      "application/javascript": [
       "parent.postMessage({\"jupyterEvent\": \"custom.exercise_interaction\", \"data\": {\"interactionType\": 3, \"questionType\": 2, \"learnTutorialId\": 277, \"questionId\": \"3_Q3\", \"learnToolsVersion\": \"0.3.2\", \"valueTowardsCompletion\": 0.0, \"failureMessage\": \"\", \"exceptionClass\": \"\", \"trace\": \"\", \"outcomeType\": 4}}, \"*\")"
      ],
      "text/plain": [
       "<IPython.core.display.Javascript object>"
      ]
     },
     "metadata": {},
     "output_type": "display_data"
    },
    {
     "data": {
      "text/markdown": [
       "<span style=\"color:#33cc99\">Solution:</span> \n",
       "```python\n",
       "cols_to_add = CA_pop.join([CA_high_earners, CA_median_age]).reset_index()\n",
       "CA_stats = CA_counties.merge(cols_to_add, on=\"GEOID\")\n",
       "\n",
       "```"
      ],
      "text/plain": [
       "Solution: \n",
       "```python\n",
       "cols_to_add = CA_pop.join([CA_high_earners, CA_median_age]).reset_index()\n",
       "CA_stats = CA_counties.merge(cols_to_add, on=\"GEOID\")\n",
       "\n",
       "```"
      ]
     },
     "metadata": {},
     "output_type": "display_data"
    }
   ],
   "source": [
    "# Lines below will give you a hint or solution code\n",
    "q_3.hint()\n",
    "q_3.solution()"
   ]
  },
  {
   "cell_type": "markdown",
   "execution_count": null,
   "metadata": {},
   "source": [
    "Now that we have all of the data in one place, it's much easier to calculate statistics that use a combination of columns.  Run the next code cell to create a \"density\" column with the population density."
   ]
  },
  {
   "cell_type": "code",
   "execution_count": 20,
   "metadata": {},
   "outputs": [],
   "source": [
    "CA_stats[\"density\"] = CA_stats[\"population\"] / CA_stats[\"area_sqkm\"]"
   ]
  },
  {
   "cell_type": "code",
   "execution_count": 21,
   "metadata": {},
   "outputs": [
    {
     "data": {
      "text/html": [
       "<div>\n",
       "<style scoped>\n",
       "    .dataframe tbody tr th:only-of-type {\n",
       "        vertical-align: middle;\n",
       "    }\n",
       "\n",
       "    .dataframe tbody tr th {\n",
       "        vertical-align: top;\n",
       "    }\n",
       "\n",
       "    .dataframe thead th {\n",
       "        text-align: right;\n",
       "    }\n",
       "</style>\n",
       "<table border=\"1\" class=\"dataframe\">\n",
       "  <thead>\n",
       "    <tr style=\"text-align: right;\">\n",
       "      <th></th>\n",
       "      <th>GEOID</th>\n",
       "      <th>name</th>\n",
       "      <th>area_sqkm</th>\n",
       "      <th>geometry</th>\n",
       "      <th>population</th>\n",
       "      <th>high_earners</th>\n",
       "      <th>median_age</th>\n",
       "      <th>density</th>\n",
       "    </tr>\n",
       "  </thead>\n",
       "  <tbody>\n",
       "    <tr>\n",
       "      <td>0</td>\n",
       "      <td>6091</td>\n",
       "      <td>Sierra County</td>\n",
       "      <td>2491.995494</td>\n",
       "      <td>POLYGON ((-120.6555981820125 39.69356523820564...</td>\n",
       "      <td>2987</td>\n",
       "      <td>111</td>\n",
       "      <td>55.0</td>\n",
       "      <td>1.198638</td>\n",
       "    </tr>\n",
       "    <tr>\n",
       "      <td>1</td>\n",
       "      <td>6067</td>\n",
       "      <td>Sacramento County</td>\n",
       "      <td>2575.258262</td>\n",
       "      <td>POLYGON ((-121.1885841398944 38.71431311442083...</td>\n",
       "      <td>1540975</td>\n",
       "      <td>65768</td>\n",
       "      <td>35.9</td>\n",
       "      <td>598.376878</td>\n",
       "    </tr>\n",
       "    <tr>\n",
       "      <td>2</td>\n",
       "      <td>6083</td>\n",
       "      <td>Santa Barbara County</td>\n",
       "      <td>9813.817958</td>\n",
       "      <td>(POLYGON ((-120.5819095703916 34.0985617276066...</td>\n",
       "      <td>446527</td>\n",
       "      <td>25231</td>\n",
       "      <td>33.7</td>\n",
       "      <td>45.499825</td>\n",
       "    </tr>\n",
       "    <tr>\n",
       "      <td>3</td>\n",
       "      <td>6009</td>\n",
       "      <td>Calaveras County</td>\n",
       "      <td>2685.626726</td>\n",
       "      <td>POLYGON ((-120.6309460064869 38.34110512435024...</td>\n",
       "      <td>45602</td>\n",
       "      <td>2046</td>\n",
       "      <td>51.6</td>\n",
       "      <td>16.980022</td>\n",
       "    </tr>\n",
       "    <tr>\n",
       "      <td>4</td>\n",
       "      <td>6111</td>\n",
       "      <td>Ventura County</td>\n",
       "      <td>5719.321379</td>\n",
       "      <td>(POLYGON ((-119.6363143545649 33.2730446943631...</td>\n",
       "      <td>850967</td>\n",
       "      <td>57121</td>\n",
       "      <td>37.5</td>\n",
       "      <td>148.788107</td>\n",
       "    </tr>\n",
       "  </tbody>\n",
       "</table>\n",
       "</div>"
      ],
      "text/plain": [
       "   GEOID                  name    area_sqkm  \\\n",
       "0   6091         Sierra County  2491.995494   \n",
       "1   6067     Sacramento County  2575.258262   \n",
       "2   6083  Santa Barbara County  9813.817958   \n",
       "3   6009      Calaveras County  2685.626726   \n",
       "4   6111        Ventura County  5719.321379   \n",
       "\n",
       "                                            geometry  population  \\\n",
       "0  POLYGON ((-120.6555981820125 39.69356523820564...        2987   \n",
       "1  POLYGON ((-121.1885841398944 38.71431311442083...     1540975   \n",
       "2  (POLYGON ((-120.5819095703916 34.0985617276066...      446527   \n",
       "3  POLYGON ((-120.6309460064869 38.34110512435024...       45602   \n",
       "4  (POLYGON ((-119.6363143545649 33.2730446943631...      850967   \n",
       "\n",
       "   high_earners  median_age     density  \n",
       "0           111        55.0    1.198638  \n",
       "1         65768        35.9  598.376878  \n",
       "2         25231        33.7   45.499825  \n",
       "3          2046        51.6   16.980022  \n",
       "4         57121        37.5  148.788107  "
      ]
     },
     "execution_count": 21,
     "metadata": {},
     "output_type": "execute_result"
    }
   ],
   "source": [
    "CA_stats.head()"
   ]
  },
  {
   "cell_type": "markdown",
   "execution_count": null,
   "metadata": {},
   "source": [
    "### 4) Which counties look promising?\n",
    "\n",
    "Collapsing all of the information into a single GeoDataFrame also makes it much easier to select counties that meet specific criteria.\n",
    "\n",
    "Use the next code cell to create a GeoDataFrame `sel_counties` that contains a subset of the rows (and all of the columns) from the `CA_stats` GeoDataFrame.  In particular, you should select counties where:\n",
    "- there are at least 100,000 households making \\$150,000 per year,\n",
    "- the median age is less than 38.5, and\n",
    "- the density of inhabitants is at least 285 (per square kilometer).\n",
    "\n",
    "Additionally, selected counties should satisfy at least one of the following criteria:\n",
    "- there are at least 500,000 households making \\$150,000 per year,\n",
    "- the median age is less than 35.5, or\n",
    "- the density of inhabitants is at least 1400 (per square kilometer)."
   ]
  },
  {
   "cell_type": "code",
   "execution_count": 22,
   "metadata": {},
   "outputs": [
    {
     "data": {
      "application/javascript": [
       "parent.postMessage({\"jupyterEvent\": \"custom.exercise_interaction\", \"data\": {\"outcomeType\": 1, \"valueTowardsCompletion\": 0.2, \"interactionType\": 1, \"questionType\": 2, \"learnTutorialId\": 277, \"questionId\": \"4_Q4\", \"learnToolsVersion\": \"0.3.2\", \"failureMessage\": \"\", \"exceptionClass\": \"\", \"trace\": \"\"}}, \"*\")"
      ],
      "text/plain": [
       "<IPython.core.display.Javascript object>"
      ]
     },
     "metadata": {},
     "output_type": "display_data"
    },
    {
     "data": {
      "text/markdown": [
       "<span style=\"color:#33cc33\">Correct</span>"
      ],
      "text/plain": [
       "Correct"
      ]
     },
     "metadata": {},
     "output_type": "display_data"
    }
   ],
   "source": [
    "# Your code here\n",
    "sel_counties = CA_stats[((CA_stats.high_earners > 100000) &\n",
    "                         (CA_stats.median_age < 38.5) &\n",
    "                         (CA_stats.density > 285) &\n",
    "                         ((CA_stats.median_age < 35.5) |\n",
    "                         (CA_stats.density > 1400) |\n",
    "                         (CA_stats.high_earners > 500000)))]\n",
    "\n",
    "# Check your answer\n",
    "q_4.check()"
   ]
  },
  {
   "cell_type": "code",
   "execution_count": 23,
   "metadata": {},
   "outputs": [
    {
     "data": {
      "text/html": [
       "<div>\n",
       "<style scoped>\n",
       "    .dataframe tbody tr th:only-of-type {\n",
       "        vertical-align: middle;\n",
       "    }\n",
       "\n",
       "    .dataframe tbody tr th {\n",
       "        vertical-align: top;\n",
       "    }\n",
       "\n",
       "    .dataframe thead th {\n",
       "        text-align: right;\n",
       "    }\n",
       "</style>\n",
       "<table border=\"1\" class=\"dataframe\">\n",
       "  <thead>\n",
       "    <tr style=\"text-align: right;\">\n",
       "      <th></th>\n",
       "      <th>GEOID</th>\n",
       "      <th>name</th>\n",
       "      <th>area_sqkm</th>\n",
       "      <th>geometry</th>\n",
       "      <th>population</th>\n",
       "      <th>high_earners</th>\n",
       "      <th>median_age</th>\n",
       "      <th>density</th>\n",
       "    </tr>\n",
       "  </thead>\n",
       "  <tbody>\n",
       "    <tr>\n",
       "      <td>5</td>\n",
       "      <td>6037</td>\n",
       "      <td>Los Angeles County</td>\n",
       "      <td>12305.376879</td>\n",
       "      <td>(POLYGON ((-118.6676142121397 33.4774937689834...</td>\n",
       "      <td>10105518</td>\n",
       "      <td>501413</td>\n",
       "      <td>36.0</td>\n",
       "      <td>821.227834</td>\n",
       "    </tr>\n",
       "    <tr>\n",
       "      <td>8</td>\n",
       "      <td>6073</td>\n",
       "      <td>San Diego County</td>\n",
       "      <td>11721.342229</td>\n",
       "      <td>POLYGON ((-117.4374379823408 33.17953480111068...</td>\n",
       "      <td>3343364</td>\n",
       "      <td>194676</td>\n",
       "      <td>35.4</td>\n",
       "      <td>285.237299</td>\n",
       "    </tr>\n",
       "    <tr>\n",
       "      <td>10</td>\n",
       "      <td>6075</td>\n",
       "      <td>San Francisco County</td>\n",
       "      <td>600.588247</td>\n",
       "      <td>(POLYGON ((-122.6002492453396 37.8024879332407...</td>\n",
       "      <td>883305</td>\n",
       "      <td>114989</td>\n",
       "      <td>38.3</td>\n",
       "      <td>1470.733077</td>\n",
       "    </tr>\n",
       "  </tbody>\n",
       "</table>\n",
       "</div>"
      ],
      "text/plain": [
       "    GEOID                  name     area_sqkm  \\\n",
       "5    6037    Los Angeles County  12305.376879   \n",
       "8    6073      San Diego County  11721.342229   \n",
       "10   6075  San Francisco County    600.588247   \n",
       "\n",
       "                                             geometry  population  \\\n",
       "5   (POLYGON ((-118.6676142121397 33.4774937689834...    10105518   \n",
       "8   POLYGON ((-117.4374379823408 33.17953480111068...     3343364   \n",
       "10  (POLYGON ((-122.6002492453396 37.8024879332407...      883305   \n",
       "\n",
       "    high_earners  median_age      density  \n",
       "5         501413        36.0   821.227834  \n",
       "8         194676        35.4   285.237299  \n",
       "10        114989        38.3  1470.733077  "
      ]
     },
     "execution_count": 23,
     "metadata": {},
     "output_type": "execute_result"
    }
   ],
   "source": [
    "sel_counties"
   ]
  },
  {
   "cell_type": "code",
   "execution_count": 24,
   "metadata": {},
   "outputs": [
    {
     "data": {
      "application/javascript": [
       "parent.postMessage({\"jupyterEvent\": \"custom.exercise_interaction\", \"data\": {\"interactionType\": 2, \"questionType\": 2, \"learnTutorialId\": 277, \"questionId\": \"4_Q4\", \"learnToolsVersion\": \"0.3.2\", \"valueTowardsCompletion\": 0.0, \"failureMessage\": \"\", \"exceptionClass\": \"\", \"trace\": \"\", \"outcomeType\": 4}}, \"*\")"
      ],
      "text/plain": [
       "<IPython.core.display.Javascript object>"
      ]
     },
     "metadata": {},
     "output_type": "display_data"
    },
    {
     "data": {
      "text/markdown": [
       "<span style=\"color:#3366cc\">Hint:</span> Review conditional selection [here](https://www.kaggle.com/residentmario/indexing-selecting-assigning/)."
      ],
      "text/plain": [
       "Hint: Review conditional selection [here](https://www.kaggle.com/residentmario/indexing-selecting-assigning/)."
      ]
     },
     "metadata": {},
     "output_type": "display_data"
    },
    {
     "data": {
      "application/javascript": [
       "parent.postMessage({\"jupyterEvent\": \"custom.exercise_interaction\", \"data\": {\"interactionType\": 3, \"questionType\": 2, \"learnTutorialId\": 277, \"questionId\": \"4_Q4\", \"learnToolsVersion\": \"0.3.2\", \"valueTowardsCompletion\": 0.0, \"failureMessage\": \"\", \"exceptionClass\": \"\", \"trace\": \"\", \"outcomeType\": 4}}, \"*\")"
      ],
      "text/plain": [
       "<IPython.core.display.Javascript object>"
      ]
     },
     "metadata": {},
     "output_type": "display_data"
    },
    {
     "data": {
      "text/markdown": [
       "<span style=\"color:#33cc99\">Solution:</span> \n",
       "```python\n",
       "sel_counties = CA_stats[((CA_stats.high_earners > 100000) &\n",
       "                         (CA_stats.median_age < 38.5) &\n",
       "                         (CA_stats.density > 285) &\n",
       "                         ((CA_stats.median_age < 35.5) |\n",
       "                         (CA_stats.density > 1400) |\n",
       "                         (CA_stats.high_earners > 500000)))]\n",
       "\n",
       "```"
      ],
      "text/plain": [
       "Solution: \n",
       "```python\n",
       "sel_counties = CA_stats[((CA_stats.high_earners > 100000) &\n",
       "                         (CA_stats.median_age < 38.5) &\n",
       "                         (CA_stats.density > 285) &\n",
       "                         ((CA_stats.median_age < 35.5) |\n",
       "                         (CA_stats.density > 1400) |\n",
       "                         (CA_stats.high_earners > 500000)))]\n",
       "\n",
       "```"
      ]
     },
     "metadata": {},
     "output_type": "display_data"
    }
   ],
   "source": [
    "# Lines below will give you a hint or solution code\n",
    "q_4.hint()\n",
    "q_4.solution()"
   ]
  },
  {
   "cell_type": "markdown",
   "execution_count": null,
   "metadata": {},
   "source": [
    "### 5) How many stores did you identify?\n",
    "\n",
    "When looking for the next Starbucks Reserve Roastery location, you'd like to consider all of the stores within the counties that you selected.  So, how many stores are within the selected counties?\n",
    "\n",
    "To prepare to answer this question, run the next code cell to create a GeoDataFrame `starbucks_gdf` with all of the starbucks locations."
   ]
  },
  {
   "cell_type": "code",
   "execution_count": 25,
   "metadata": {},
   "outputs": [],
   "source": [
    "starbucks_gdf = gpd.GeoDataFrame(starbucks, geometry=gpd.points_from_xy(starbucks.Longitude, starbucks.Latitude))\n",
    "starbucks_gdf.crs = {'init': 'epsg:4326'}"
   ]
  },
  {
   "cell_type": "code",
   "execution_count": 26,
   "metadata": {},
   "outputs": [
    {
     "data": {
      "text/html": [
       "<div>\n",
       "<style scoped>\n",
       "    .dataframe tbody tr th:only-of-type {\n",
       "        vertical-align: middle;\n",
       "    }\n",
       "\n",
       "    .dataframe tbody tr th {\n",
       "        vertical-align: top;\n",
       "    }\n",
       "\n",
       "    .dataframe thead th {\n",
       "        text-align: right;\n",
       "    }\n",
       "</style>\n",
       "<table border=\"1\" class=\"dataframe\">\n",
       "  <thead>\n",
       "    <tr style=\"text-align: right;\">\n",
       "      <th></th>\n",
       "      <th>Store Number</th>\n",
       "      <th>Store Name</th>\n",
       "      <th>Address</th>\n",
       "      <th>City</th>\n",
       "      <th>Longitude</th>\n",
       "      <th>Latitude</th>\n",
       "      <th>geometry</th>\n",
       "    </tr>\n",
       "  </thead>\n",
       "  <tbody>\n",
       "    <tr>\n",
       "      <td>0</td>\n",
       "      <td>10429-100710</td>\n",
       "      <td>Palmdale &amp; Hwy 395</td>\n",
       "      <td>14136 US Hwy 395 Adelanto CA</td>\n",
       "      <td>Adelanto</td>\n",
       "      <td>-117.40</td>\n",
       "      <td>34.51</td>\n",
       "      <td>POINT (-117.4 34.51)</td>\n",
       "    </tr>\n",
       "    <tr>\n",
       "      <td>1</td>\n",
       "      <td>635-352</td>\n",
       "      <td>Kanan &amp; Thousand Oaks</td>\n",
       "      <td>5827 Kanan Road Agoura CA</td>\n",
       "      <td>Agoura</td>\n",
       "      <td>-118.76</td>\n",
       "      <td>34.16</td>\n",
       "      <td>POINT (-118.76 34.16)</td>\n",
       "    </tr>\n",
       "    <tr>\n",
       "      <td>2</td>\n",
       "      <td>74510-27669</td>\n",
       "      <td>Vons-Agoura Hills #2001</td>\n",
       "      <td>5671 Kanan Rd. Agoura Hills CA</td>\n",
       "      <td>Agoura Hills</td>\n",
       "      <td>-118.76</td>\n",
       "      <td>34.15</td>\n",
       "      <td>POINT (-118.76 34.15)</td>\n",
       "    </tr>\n",
       "    <tr>\n",
       "      <td>3</td>\n",
       "      <td>29839-255026</td>\n",
       "      <td>Target Anaheim T-0677</td>\n",
       "      <td>8148 E SANTA ANA CANYON ROAD AHAHEIM CA</td>\n",
       "      <td>AHAHEIM</td>\n",
       "      <td>-117.75</td>\n",
       "      <td>33.87</td>\n",
       "      <td>POINT (-117.75 33.87)</td>\n",
       "    </tr>\n",
       "    <tr>\n",
       "      <td>4</td>\n",
       "      <td>23463-230284</td>\n",
       "      <td>Safeway - Alameda 3281</td>\n",
       "      <td>2600 5th Street Alameda CA</td>\n",
       "      <td>Alameda</td>\n",
       "      <td>-122.28</td>\n",
       "      <td>37.79</td>\n",
       "      <td>POINT (-122.28 37.79)</td>\n",
       "    </tr>\n",
       "    <tr>\n",
       "      <td>...</td>\n",
       "      <td>...</td>\n",
       "      <td>...</td>\n",
       "      <td>...</td>\n",
       "      <td>...</td>\n",
       "      <td>...</td>\n",
       "      <td>...</td>\n",
       "      <td>...</td>\n",
       "    </tr>\n",
       "    <tr>\n",
       "      <td>2816</td>\n",
       "      <td>14071-108147</td>\n",
       "      <td>Hwy 20 &amp; Tharp - Yuba City</td>\n",
       "      <td>1615 Colusa Hwy, Ste 100 Yuba City CA</td>\n",
       "      <td>Yuba City</td>\n",
       "      <td>-121.64</td>\n",
       "      <td>39.14</td>\n",
       "      <td>POINT (-121.64 39.14)</td>\n",
       "    </tr>\n",
       "    <tr>\n",
       "      <td>2817</td>\n",
       "      <td>9974-98559</td>\n",
       "      <td>Yucaipa &amp; Hampton, Yucaipa</td>\n",
       "      <td>31364 Yucaipa Blvd., A Yucaipa CA</td>\n",
       "      <td>Yucaipa</td>\n",
       "      <td>-117.12</td>\n",
       "      <td>34.03</td>\n",
       "      <td>POINT (-117.12 34.03)</td>\n",
       "    </tr>\n",
       "    <tr>\n",
       "      <td>2818</td>\n",
       "      <td>79654-108478</td>\n",
       "      <td>Vons - Yucaipa #1796</td>\n",
       "      <td>33644 YUCAIPA BLVD YUCAIPA CA</td>\n",
       "      <td>YUCAIPA</td>\n",
       "      <td>-117.07</td>\n",
       "      <td>34.04</td>\n",
       "      <td>POINT (-117.07 34.04)</td>\n",
       "    </tr>\n",
       "    <tr>\n",
       "      <td>2819</td>\n",
       "      <td>6438-245084</td>\n",
       "      <td>Yucaipa &amp; 6th</td>\n",
       "      <td>34050 Yucaipa Blvd., 200 Yucaipa CA</td>\n",
       "      <td>Yucaipa</td>\n",
       "      <td>-117.06</td>\n",
       "      <td>34.03</td>\n",
       "      <td>POINT (-117.06 34.03)</td>\n",
       "    </tr>\n",
       "    <tr>\n",
       "      <td>2820</td>\n",
       "      <td>6829-82142</td>\n",
       "      <td>Highway 62 &amp; Warren Vista</td>\n",
       "      <td>57744  29 Palms Highway Yucca Valley CA</td>\n",
       "      <td>Yucca Valley</td>\n",
       "      <td>-116.40</td>\n",
       "      <td>34.13</td>\n",
       "      <td>POINT (-116.4 34.13)</td>\n",
       "    </tr>\n",
       "  </tbody>\n",
       "</table>\n",
       "<p>2821 rows × 7 columns</p>\n",
       "</div>"
      ],
      "text/plain": [
       "      Store Number                  Store Name  \\\n",
       "0     10429-100710          Palmdale & Hwy 395   \n",
       "1          635-352       Kanan & Thousand Oaks   \n",
       "2      74510-27669     Vons-Agoura Hills #2001   \n",
       "3     29839-255026       Target Anaheim T-0677   \n",
       "4     23463-230284      Safeway - Alameda 3281   \n",
       "...            ...                         ...   \n",
       "2816  14071-108147  Hwy 20 & Tharp - Yuba City   \n",
       "2817    9974-98559  Yucaipa & Hampton, Yucaipa   \n",
       "2818  79654-108478        Vons - Yucaipa #1796   \n",
       "2819   6438-245084               Yucaipa & 6th   \n",
       "2820    6829-82142   Highway 62 & Warren Vista   \n",
       "\n",
       "                                      Address          City  Longitude  \\\n",
       "0                14136 US Hwy 395 Adelanto CA      Adelanto    -117.40   \n",
       "1                   5827 Kanan Road Agoura CA        Agoura    -118.76   \n",
       "2              5671 Kanan Rd. Agoura Hills CA  Agoura Hills    -118.76   \n",
       "3     8148 E SANTA ANA CANYON ROAD AHAHEIM CA       AHAHEIM    -117.75   \n",
       "4                  2600 5th Street Alameda CA       Alameda    -122.28   \n",
       "...                                       ...           ...        ...   \n",
       "2816    1615 Colusa Hwy, Ste 100 Yuba City CA     Yuba City    -121.64   \n",
       "2817        31364 Yucaipa Blvd., A Yucaipa CA       Yucaipa    -117.12   \n",
       "2818            33644 YUCAIPA BLVD YUCAIPA CA       YUCAIPA    -117.07   \n",
       "2819      34050 Yucaipa Blvd., 200 Yucaipa CA       Yucaipa    -117.06   \n",
       "2820  57744  29 Palms Highway Yucca Valley CA  Yucca Valley    -116.40   \n",
       "\n",
       "      Latitude               geometry  \n",
       "0        34.51   POINT (-117.4 34.51)  \n",
       "1        34.16  POINT (-118.76 34.16)  \n",
       "2        34.15  POINT (-118.76 34.15)  \n",
       "3        33.87  POINT (-117.75 33.87)  \n",
       "4        37.79  POINT (-122.28 37.79)  \n",
       "...        ...                    ...  \n",
       "2816     39.14  POINT (-121.64 39.14)  \n",
       "2817     34.03  POINT (-117.12 34.03)  \n",
       "2818     34.04  POINT (-117.07 34.04)  \n",
       "2819     34.03  POINT (-117.06 34.03)  \n",
       "2820     34.13   POINT (-116.4 34.13)  \n",
       "\n",
       "[2821 rows x 7 columns]"
      ]
     },
     "execution_count": 26,
     "metadata": {},
     "output_type": "execute_result"
    }
   ],
   "source": [
    "starbucks_gdf"
   ]
  },
  {
   "cell_type": "markdown",
   "execution_count": null,
   "metadata": {},
   "source": [
    "So, how many stores are in the counties you selected?"
   ]
  },
  {
   "cell_type": "code",
   "execution_count": 27,
   "metadata": {},
   "outputs": [
    {
     "data": {
      "application/javascript": [
       "parent.postMessage({\"jupyterEvent\": \"custom.exercise_interaction\", \"data\": {\"outcomeType\": 1, \"valueTowardsCompletion\": 0.2, \"interactionType\": 1, \"questionType\": 2, \"learnTutorialId\": 277, \"questionId\": \"5_Q5\", \"learnToolsVersion\": \"0.3.2\", \"failureMessage\": \"\", \"exceptionClass\": \"\", \"trace\": \"\"}}, \"*\")"
      ],
      "text/plain": [
       "<IPython.core.display.Javascript object>"
      ]
     },
     "metadata": {},
     "output_type": "display_data"
    },
    {
     "data": {
      "text/markdown": [
       "<span style=\"color:#33cc33\">Correct</span>"
      ],
      "text/plain": [
       "Correct"
      ]
     },
     "metadata": {},
     "output_type": "display_data"
    }
   ],
   "source": [
    "# Fill in your answer\n",
    "locations_of_interest = gpd.sjoin(starbucks_gdf, sel_counties)\n",
    "num_stores = len(locations_of_interest)\n",
    "\n",
    "# Check your answer\n",
    "q_5.check()"
   ]
  },
  {
   "cell_type": "code",
   "execution_count": 28,
   "metadata": {},
   "outputs": [
    {
     "data": {
      "text/html": [
       "<div>\n",
       "<style scoped>\n",
       "    .dataframe tbody tr th:only-of-type {\n",
       "        vertical-align: middle;\n",
       "    }\n",
       "\n",
       "    .dataframe tbody tr th {\n",
       "        vertical-align: top;\n",
       "    }\n",
       "\n",
       "    .dataframe thead th {\n",
       "        text-align: right;\n",
       "    }\n",
       "</style>\n",
       "<table border=\"1\" class=\"dataframe\">\n",
       "  <thead>\n",
       "    <tr style=\"text-align: right;\">\n",
       "      <th></th>\n",
       "      <th>Store Number</th>\n",
       "      <th>Store Name</th>\n",
       "      <th>Address</th>\n",
       "      <th>City</th>\n",
       "      <th>Longitude</th>\n",
       "      <th>Latitude</th>\n",
       "      <th>geometry</th>\n",
       "      <th>index_right</th>\n",
       "      <th>GEOID</th>\n",
       "      <th>name</th>\n",
       "      <th>area_sqkm</th>\n",
       "      <th>population</th>\n",
       "      <th>high_earners</th>\n",
       "      <th>median_age</th>\n",
       "      <th>density</th>\n",
       "    </tr>\n",
       "  </thead>\n",
       "  <tbody>\n",
       "    <tr>\n",
       "      <td>1</td>\n",
       "      <td>635-352</td>\n",
       "      <td>Kanan &amp; Thousand Oaks</td>\n",
       "      <td>5827 Kanan Road Agoura CA</td>\n",
       "      <td>Agoura</td>\n",
       "      <td>-118.76</td>\n",
       "      <td>34.16</td>\n",
       "      <td>POINT (-118.76 34.16)</td>\n",
       "      <td>5</td>\n",
       "      <td>6037</td>\n",
       "      <td>Los Angeles County</td>\n",
       "      <td>12305.376879</td>\n",
       "      <td>10105518</td>\n",
       "      <td>501413</td>\n",
       "      <td>36.0</td>\n",
       "      <td>821.227834</td>\n",
       "    </tr>\n",
       "    <tr>\n",
       "      <td>2</td>\n",
       "      <td>74510-27669</td>\n",
       "      <td>Vons-Agoura Hills #2001</td>\n",
       "      <td>5671 Kanan Rd. Agoura Hills CA</td>\n",
       "      <td>Agoura Hills</td>\n",
       "      <td>-118.76</td>\n",
       "      <td>34.15</td>\n",
       "      <td>POINT (-118.76 34.15)</td>\n",
       "      <td>5</td>\n",
       "      <td>6037</td>\n",
       "      <td>Los Angeles County</td>\n",
       "      <td>12305.376879</td>\n",
       "      <td>10105518</td>\n",
       "      <td>501413</td>\n",
       "      <td>36.0</td>\n",
       "      <td>821.227834</td>\n",
       "    </tr>\n",
       "    <tr>\n",
       "      <td>14</td>\n",
       "      <td>76365-97162</td>\n",
       "      <td>Target Alhambra T-184</td>\n",
       "      <td>1220 West Main Street Alhambra CA</td>\n",
       "      <td>Alhambra</td>\n",
       "      <td>-118.14</td>\n",
       "      <td>34.09</td>\n",
       "      <td>POINT (-118.14 34.09)</td>\n",
       "      <td>5</td>\n",
       "      <td>6037</td>\n",
       "      <td>Los Angeles County</td>\n",
       "      <td>12305.376879</td>\n",
       "      <td>10105518</td>\n",
       "      <td>501413</td>\n",
       "      <td>36.0</td>\n",
       "      <td>821.227834</td>\n",
       "    </tr>\n",
       "    <tr>\n",
       "      <td>15</td>\n",
       "      <td>6794-41839</td>\n",
       "      <td>Fremont Ave &amp; Mission Rd</td>\n",
       "      <td>1131 S Fremont Ave, A Alhambra CA</td>\n",
       "      <td>Alhambra</td>\n",
       "      <td>-118.15</td>\n",
       "      <td>34.08</td>\n",
       "      <td>POINT (-118.15 34.08)</td>\n",
       "      <td>5</td>\n",
       "      <td>6037</td>\n",
       "      <td>Los Angeles County</td>\n",
       "      <td>12305.376879</td>\n",
       "      <td>10105518</td>\n",
       "      <td>501413</td>\n",
       "      <td>36.0</td>\n",
       "      <td>821.227834</td>\n",
       "    </tr>\n",
       "    <tr>\n",
       "      <td>16</td>\n",
       "      <td>11220-104633</td>\n",
       "      <td>Atlantic &amp; Valley, Alhambra</td>\n",
       "      <td>1410 South Atlantic Blvd. Alhambra CA</td>\n",
       "      <td>Alhambra</td>\n",
       "      <td>-118.13</td>\n",
       "      <td>34.08</td>\n",
       "      <td>POINT (-118.13 34.08)</td>\n",
       "      <td>5</td>\n",
       "      <td>6037</td>\n",
       "      <td>Los Angeles County</td>\n",
       "      <td>12305.376879</td>\n",
       "      <td>10105518</td>\n",
       "      <td>501413</td>\n",
       "      <td>36.0</td>\n",
       "      <td>821.227834</td>\n",
       "    </tr>\n",
       "    <tr>\n",
       "      <td>...</td>\n",
       "      <td>...</td>\n",
       "      <td>...</td>\n",
       "      <td>...</td>\n",
       "      <td>...</td>\n",
       "      <td>...</td>\n",
       "      <td>...</td>\n",
       "      <td>...</td>\n",
       "      <td>...</td>\n",
       "      <td>...</td>\n",
       "      <td>...</td>\n",
       "      <td>...</td>\n",
       "      <td>...</td>\n",
       "      <td>...</td>\n",
       "      <td>...</td>\n",
       "      <td>...</td>\n",
       "    </tr>\n",
       "    <tr>\n",
       "      <td>2138</td>\n",
       "      <td>5836-13469</td>\n",
       "      <td>3rd &amp; Howard</td>\n",
       "      <td>201 3rd St. San Francisco CA</td>\n",
       "      <td>San Francisco</td>\n",
       "      <td>-122.40</td>\n",
       "      <td>37.78</td>\n",
       "      <td>POINT (-122.4 37.78)</td>\n",
       "      <td>10</td>\n",
       "      <td>6075</td>\n",
       "      <td>San Francisco County</td>\n",
       "      <td>600.588247</td>\n",
       "      <td>883305</td>\n",
       "      <td>114989</td>\n",
       "      <td>38.3</td>\n",
       "      <td>1470.733077</td>\n",
       "    </tr>\n",
       "    <tr>\n",
       "      <td>2139</td>\n",
       "      <td>545-488</td>\n",
       "      <td>24th &amp; Noe</td>\n",
       "      <td>3995 24th Street San Francisco CA</td>\n",
       "      <td>San Francisco</td>\n",
       "      <td>-122.43</td>\n",
       "      <td>37.75</td>\n",
       "      <td>POINT (-122.43 37.75)</td>\n",
       "      <td>10</td>\n",
       "      <td>6075</td>\n",
       "      <td>San Francisco County</td>\n",
       "      <td>600.588247</td>\n",
       "      <td>883305</td>\n",
       "      <td>114989</td>\n",
       "      <td>38.3</td>\n",
       "      <td>1470.733077</td>\n",
       "    </tr>\n",
       "    <tr>\n",
       "      <td>2140</td>\n",
       "      <td>14311-115765</td>\n",
       "      <td>Owens &amp; 16th</td>\n",
       "      <td>1700 Owens Street, Third &amp; Market San Francisc...</td>\n",
       "      <td>San Francisco</td>\n",
       "      <td>-122.39</td>\n",
       "      <td>37.77</td>\n",
       "      <td>POINT (-122.39 37.77)</td>\n",
       "      <td>10</td>\n",
       "      <td>6075</td>\n",
       "      <td>San Francisco County</td>\n",
       "      <td>600.588247</td>\n",
       "      <td>883305</td>\n",
       "      <td>114989</td>\n",
       "      <td>38.3</td>\n",
       "      <td>1470.733077</td>\n",
       "    </tr>\n",
       "    <tr>\n",
       "      <td>2141</td>\n",
       "      <td>10347-100168</td>\n",
       "      <td>Third &amp; Market</td>\n",
       "      <td>7 Third Street San Francisco CA</td>\n",
       "      <td>San Francisco</td>\n",
       "      <td>-122.40</td>\n",
       "      <td>37.79</td>\n",
       "      <td>POINT (-122.4 37.79)</td>\n",
       "      <td>10</td>\n",
       "      <td>6075</td>\n",
       "      <td>San Francisco County</td>\n",
       "      <td>600.588247</td>\n",
       "      <td>883305</td>\n",
       "      <td>114989</td>\n",
       "      <td>38.3</td>\n",
       "      <td>1470.733077</td>\n",
       "    </tr>\n",
       "    <tr>\n",
       "      <td>2142</td>\n",
       "      <td>9211-249564</td>\n",
       "      <td>One Market</td>\n",
       "      <td>1 Market Plaza, SP6 San Francisco CA</td>\n",
       "      <td>San Francisco</td>\n",
       "      <td>-122.39</td>\n",
       "      <td>37.79</td>\n",
       "      <td>POINT (-122.39 37.79)</td>\n",
       "      <td>10</td>\n",
       "      <td>6075</td>\n",
       "      <td>San Francisco County</td>\n",
       "      <td>600.588247</td>\n",
       "      <td>883305</td>\n",
       "      <td>114989</td>\n",
       "      <td>38.3</td>\n",
       "      <td>1470.733077</td>\n",
       "    </tr>\n",
       "  </tbody>\n",
       "</table>\n",
       "<p>1043 rows × 15 columns</p>\n",
       "</div>"
      ],
      "text/plain": [
       "      Store Number                   Store Name  \\\n",
       "1          635-352        Kanan & Thousand Oaks   \n",
       "2      74510-27669      Vons-Agoura Hills #2001   \n",
       "14     76365-97162        Target Alhambra T-184   \n",
       "15      6794-41839     Fremont Ave & Mission Rd   \n",
       "16    11220-104633  Atlantic & Valley, Alhambra   \n",
       "...            ...                          ...   \n",
       "2138    5836-13469                 3rd & Howard   \n",
       "2139       545-488                   24th & Noe   \n",
       "2140  14311-115765                 Owens & 16th   \n",
       "2141  10347-100168               Third & Market   \n",
       "2142   9211-249564                   One Market   \n",
       "\n",
       "                                                Address           City  \\\n",
       "1                             5827 Kanan Road Agoura CA         Agoura   \n",
       "2                        5671 Kanan Rd. Agoura Hills CA   Agoura Hills   \n",
       "14                    1220 West Main Street Alhambra CA       Alhambra   \n",
       "15                    1131 S Fremont Ave, A Alhambra CA       Alhambra   \n",
       "16                1410 South Atlantic Blvd. Alhambra CA       Alhambra   \n",
       "...                                                 ...            ...   \n",
       "2138                       201 3rd St. San Francisco CA  San Francisco   \n",
       "2139                  3995 24th Street San Francisco CA  San Francisco   \n",
       "2140  1700 Owens Street, Third & Market San Francisc...  San Francisco   \n",
       "2141                    7 Third Street San Francisco CA  San Francisco   \n",
       "2142               1 Market Plaza, SP6 San Francisco CA  San Francisco   \n",
       "\n",
       "      Longitude  Latitude               geometry  index_right  GEOID  \\\n",
       "1       -118.76     34.16  POINT (-118.76 34.16)            5   6037   \n",
       "2       -118.76     34.15  POINT (-118.76 34.15)            5   6037   \n",
       "14      -118.14     34.09  POINT (-118.14 34.09)            5   6037   \n",
       "15      -118.15     34.08  POINT (-118.15 34.08)            5   6037   \n",
       "16      -118.13     34.08  POINT (-118.13 34.08)            5   6037   \n",
       "...         ...       ...                    ...          ...    ...   \n",
       "2138    -122.40     37.78   POINT (-122.4 37.78)           10   6075   \n",
       "2139    -122.43     37.75  POINT (-122.43 37.75)           10   6075   \n",
       "2140    -122.39     37.77  POINT (-122.39 37.77)           10   6075   \n",
       "2141    -122.40     37.79   POINT (-122.4 37.79)           10   6075   \n",
       "2142    -122.39     37.79  POINT (-122.39 37.79)           10   6075   \n",
       "\n",
       "                      name     area_sqkm  population  high_earners  \\\n",
       "1       Los Angeles County  12305.376879    10105518        501413   \n",
       "2       Los Angeles County  12305.376879    10105518        501413   \n",
       "14      Los Angeles County  12305.376879    10105518        501413   \n",
       "15      Los Angeles County  12305.376879    10105518        501413   \n",
       "16      Los Angeles County  12305.376879    10105518        501413   \n",
       "...                    ...           ...         ...           ...   \n",
       "2138  San Francisco County    600.588247      883305        114989   \n",
       "2139  San Francisco County    600.588247      883305        114989   \n",
       "2140  San Francisco County    600.588247      883305        114989   \n",
       "2141  San Francisco County    600.588247      883305        114989   \n",
       "2142  San Francisco County    600.588247      883305        114989   \n",
       "\n",
       "      median_age      density  \n",
       "1           36.0   821.227834  \n",
       "2           36.0   821.227834  \n",
       "14          36.0   821.227834  \n",
       "15          36.0   821.227834  \n",
       "16          36.0   821.227834  \n",
       "...          ...          ...  \n",
       "2138        38.3  1470.733077  \n",
       "2139        38.3  1470.733077  \n",
       "2140        38.3  1470.733077  \n",
       "2141        38.3  1470.733077  \n",
       "2142        38.3  1470.733077  \n",
       "\n",
       "[1043 rows x 15 columns]"
      ]
     },
     "execution_count": 28,
     "metadata": {},
     "output_type": "execute_result"
    }
   ],
   "source": [
    "locations_of_interest"
   ]
  },
  {
   "cell_type": "code",
   "execution_count": 29,
   "metadata": {},
   "outputs": [
    {
     "data": {
      "application/javascript": [
       "parent.postMessage({\"jupyterEvent\": \"custom.exercise_interaction\", \"data\": {\"interactionType\": 2, \"questionType\": 2, \"learnTutorialId\": 277, \"questionId\": \"5_Q5\", \"learnToolsVersion\": \"0.3.2\", \"valueTowardsCompletion\": 0.0, \"failureMessage\": \"\", \"exceptionClass\": \"\", \"trace\": \"\", \"outcomeType\": 4}}, \"*\")"
      ],
      "text/plain": [
       "<IPython.core.display.Javascript object>"
      ]
     },
     "metadata": {},
     "output_type": "display_data"
    },
    {
     "data": {
      "text/markdown": [
       "<span style=\"color:#3366cc\">Hint:</span> Use a spatial join with `starbucks_gdf` and `sel_counties`."
      ],
      "text/plain": [
       "Hint: Use a spatial join with `starbucks_gdf` and `sel_counties`."
      ]
     },
     "metadata": {},
     "output_type": "display_data"
    },
    {
     "data": {
      "application/javascript": [
       "parent.postMessage({\"jupyterEvent\": \"custom.exercise_interaction\", \"data\": {\"interactionType\": 3, \"questionType\": 2, \"learnTutorialId\": 277, \"questionId\": \"5_Q5\", \"learnToolsVersion\": \"0.3.2\", \"valueTowardsCompletion\": 0.0, \"failureMessage\": \"\", \"exceptionClass\": \"\", \"trace\": \"\", \"outcomeType\": 4}}, \"*\")"
      ],
      "text/plain": [
       "<IPython.core.display.Javascript object>"
      ]
     },
     "metadata": {},
     "output_type": "display_data"
    },
    {
     "data": {
      "text/markdown": [
       "<span style=\"color:#33cc99\">Solution:</span> \n",
       "```python\n",
       "locations_of_interest = gpd.sjoin(starbucks_gdf, sel_counties)\n",
       "num_stores = len(locations_of_interest)\n",
       "\n",
       "```"
      ],
      "text/plain": [
       "Solution: \n",
       "```python\n",
       "locations_of_interest = gpd.sjoin(starbucks_gdf, sel_counties)\n",
       "num_stores = len(locations_of_interest)\n",
       "\n",
       "```"
      ]
     },
     "metadata": {},
     "output_type": "display_data"
    }
   ],
   "source": [
    "# Lines below will give you a hint or solution code\n",
    "q_5.hint()\n",
    "q_5.solution()"
   ]
  },
  {
   "cell_type": "markdown",
   "execution_count": null,
   "metadata": {},
   "source": [
    "### 6) Visualize the store locations.\n",
    "\n",
    "Create a map that shows the locations of the stores that you identified in the previous question."
   ]
  },
  {
   "cell_type": "code",
   "execution_count": 30,
   "metadata": {},
   "outputs": [
    {
     "data": {
      "text/html": [
       "\n",
       "        <iframe\n",
       "            width=\"100%\"\n",
       "            height=\"500px\"\n",
       "            src=\"q_6.html\"\n",
       "            frameborder=\"0\"\n",
       "            allowfullscreen\n",
       "        ></iframe>\n",
       "        "
      ],
      "text/plain": [
       "<IPython.lib.display.IFrame at 0x7f3c8bc73ba8>"
      ]
     },
     "execution_count": 30,
     "metadata": {},
     "output_type": "execute_result"
    }
   ],
   "source": [
    "# Create a base map\n",
    "m_6 = folium.Map(location=[37,-120], zoom_start=6)\n",
    "\n",
    "# Your code here: show selected store locations\n",
    "mc = MarkerCluster()\n",
    "\n",
    "for idx, row in locations_of_interest.iterrows():\n",
    "    if not math.isnan(row['Longitude']) and not math.isnan(row['Latitude']):\n",
    "        mc.add_child(folium.Marker([row['Latitude'], row['Longitude']]))\n",
    "\n",
    "m_6.add_child(mc)\n",
    "\n",
    "# Uncomment to see a hint\n",
    "#q_6.hint()\n",
    "\n",
    "# Show the map\n",
    "embed_map(m_6, 'q_6.html')"
   ]
  },
  {
   "cell_type": "code",
   "execution_count": 31,
   "metadata": {},
   "outputs": [
    {
     "data": {
      "text/html": [
       "<div style=\"width:100%;\"><div style=\"position:relative;width:100%;height:0;padding-bottom:60%;\"><iframe src=\"data:text/html;charset=utf-8;base64,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\" style=\"position:absolute;width:100%;height:100%;left:0;top:0;border:none !important;\" allowfullscreen webkitallowfullscreen mozallowfullscreen></iframe></div></div>"
      ],
      "text/plain": [
       "<folium.folium.Map at 0x7f3c8c01a588>"
      ]
     },
     "execution_count": 31,
     "metadata": {},
     "output_type": "execute_result"
    }
   ],
   "source": [
    "m_6"
   ]
  },
  {
   "cell_type": "code",
   "execution_count": 32,
   "metadata": {},
   "outputs": [
    {
     "data": {
      "application/javascript": [
       "parent.postMessage({\"jupyterEvent\": \"custom.exercise_interaction\", \"data\": {\"interactionType\": 3, \"questionType\": 2, \"learnTutorialId\": 277, \"questionId\": \"6_Q6\", \"learnToolsVersion\": \"0.3.2\", \"valueTowardsCompletion\": 0.0, \"failureMessage\": \"\", \"exceptionClass\": \"\", \"trace\": \"\", \"outcomeType\": 4}}, \"*\")"
      ],
      "text/plain": [
       "<IPython.core.display.Javascript object>"
      ]
     },
     "metadata": {},
     "output_type": "display_data"
    },
    {
     "data": {
      "text/markdown": [
       "<span style=\"color:#33cc99\">Solution:</span> \n",
       "```python\n",
       "# Show selected store locations\n",
       "mc = MarkerCluster()\n",
       "\n",
       "locations_of_interest = gpd.sjoin(starbucks_gdf, sel_counties)\n",
       "for idx, row in locations_of_interest.iterrows():\n",
       "    if not math.isnan(row['Longitude']) and not math.isnan(row['Latitude']):\n",
       "        mc.add_child(folium.Marker([row['Latitude'], row['Longitude']]))\n",
       "        \n",
       "m_6.add_child(mc)\n",
       "\n",
       "```"
      ],
      "text/plain": [
       "Solution: \n",
       "```python\n",
       "# Show selected store locations\n",
       "mc = MarkerCluster()\n",
       "\n",
       "locations_of_interest = gpd.sjoin(starbucks_gdf, sel_counties)\n",
       "for idx, row in locations_of_interest.iterrows():\n",
       "    if not math.isnan(row['Longitude']) and not math.isnan(row['Latitude']):\n",
       "        mc.add_child(folium.Marker([row['Latitude'], row['Longitude']]))\n",
       "        \n",
       "m_6.add_child(mc)\n",
       "\n",
       "```"
      ]
     },
     "metadata": {},
     "output_type": "display_data"
    }
   ],
   "source": [
    "# Get credit for your work after you have created a map\n",
    "# q_6.check()\n",
    "\n",
    "# Uncomment to see our solution (your code may look different!)\n",
    "q_6.solution()"
   ]
  },
  {
   "cell_type": "markdown",
   "execution_count": null,
   "metadata": {},
   "source": [
    "# Keep going\n",
    "\n",
    "Learn about how **[proximity analysis](https://www.kaggle.com/alexisbcook/proximity-analysis)** can help you to understand the relationships between points on a map."
   ]
  },
  {
   "cell_type": "markdown",
   "execution_count": null,
   "metadata": {},
   "source": [
    "---\n",
    "**[Geospatial Analysis Home Page](https://www.kaggle.com/learn/geospatial-analysis)**\n",
    "\n",
    "\n",
    "\n",
    "\n",
    "\n",
    "*Have questions or comments? Visit the [Learn Discussion forum](https://www.kaggle.com/learn-forum/161464) to chat with other Learners.*"
   ]
  }
 ],
 "metadata": {
  "kernelspec": {
   "display_name": "Python 3",
   "language": "python",
   "name": "python3"
  },
  "language_info": {
   "codemirror_mode": {
    "name": "ipython",
    "version": 3
   },
   "file_extension": ".py",
   "mimetype": "text/x-python",
   "name": "python",
   "nbconvert_exporter": "python",
   "pygments_lexer": "ipython3",
   "version": "3.6.6"
  }
 },
 "nbformat": 4,
 "nbformat_minor": 4
}
